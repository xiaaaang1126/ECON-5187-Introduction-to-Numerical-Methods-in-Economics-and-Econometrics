{
 "cells": [
  {
   "cell_type": "markdown",
   "metadata": {},
   "source": [
    "# Auto Difference\n",
    "\n",
    "* Dual number\n",
    "    * definition\n",
    "    * application --- calculate derivative of elementary function\n",
    "    * dual number in Julia\n",
    "* Auto-Differetiation (forward mode)"
   ]
  },
  {
   "cell_type": "markdown",
   "metadata": {},
   "source": [
    ">>**Automatic differentiation** uses a sequence of elementary arithmetic operations and elementary functions (such as addition, multiplication, sine, cosine, and logarithm) to calculate the exact derivative of a function at any point in the function's domain. The process involves breaking down the function into smaller sub-functions, each of which has a known derivative, and then using the chain rule and product rule to combine these sub-functions to obtain the derivative of the original function.\n",
    "\n",
    "There are at least three ways (symbolic, numerical and auto-differentiation) to calculate differentiation in computer. This Note provides intuitive explanation about forward mode Auto-Differentiation. Before showing how computer do differentiation computation by forward mode Auto Differentiation(AD), we will first introduce idea of dual number which help to get derivative of simple function and is closely related to forward mode AD. And next we back to algorithm of forward mode AD.\n",
    "  \n",
    "- automatic differentiation refers to computer algorithms\n",
    "- AD is implemented by chain rules + dual number\n",
    "- https://en.wikipedia.org/wiki/Automatic_differentiation"
   ]
  },
  {
   "cell_type": "markdown",
   "metadata": {},
   "source": [
    "## Dual number\n",
    " \n",
    "\n",
    "Dual numbers extend the real numbers and have the form $a + b\\epsilon $:\n",
    "\n",
    "- $a,b \\in \\mathbb{R}$ are real numbers;\n",
    "- $\\epsilon := (0, 1)$ is nilpotent of order two; that is, $\\epsilon^n = 0$ for any integer $n \\geq 2$;\n",
    "    - \"In mathematics, an element $x$ is called nilpotent if there exists some positive integer $n$ (i.e., *degree*, *order*) such that $x^n = 0$.\"\n",
    "    - Intuitively, you might think of it as an infinitesimal number such that $\\epsilon^2 = 0$ by the machine precision.\n",
    "- $a$ is called the real part and $b$ is the dual part of the number.\n",
    "\n",
    "Operations of dual number are similar to complex number and many of them look intuitive."
   ]
  },
  {
   "cell_type": "markdown",
   "metadata": {},
   "source": [
    "### addition and multiplication\n",
    "\n",
    "\\begin{align}\n",
    "(a_1 + b_1\\epsilon) + (a_2 + b_2\\epsilon) & = (a_1 + a_2) + (b_1+b_2)\\epsilon, \\\\\n",
    "(a_1 + b_1\\epsilon) * (a_2 + b_2\\epsilon) & = a_1a_2 + (a_1b_2+a_2b_1)\\epsilon + b_1b_2\\epsilon^2\\notag \\\\\n",
    "                                          & = a_1a_2 + (a_1b_2+a_2b_1)\\epsilon,\\\\\n",
    " c*(a_1+b_1\\epsilon) & = ca_1+cb_1\\epsilon, \\\\\n",
    "\\end{align} \n",
    " "
   ]
  },
  {
   "cell_type": "markdown",
   "metadata": {},
   "source": [
    "### division\n",
    "\n",
    "\n",
    "\\begin{align} \n",
    "\\frac{a_1+b_1\\epsilon}{a_2+b_2\\epsilon} & = \\frac{(a_1+b_1\\epsilon)(a_2-b_2\\epsilon)}{(a_2+b_2\\epsilon)(a_2-b_2\\epsilon)} = \\frac{a_1a_2-a_1b_2\\epsilon + b_1a_2\\epsilon -b_1b_2\\epsilon^2}{a_2^2+a_2b_2\\epsilon-a_2b_2\\epsilon-b_2^2\\epsilon^2} \\notag \\\\\n",
    "            & = \\frac{a_1a_2-a_1b_2\\epsilon + b_1a_2\\epsilon-0}{a_2^2-0} \\notag \\\\\n",
    "            & = \\frac{a_1}{a_2} +\\frac{b_1a_2-a_1b_2}{a_2^2}\\epsilon.\n",
    "\\end{align}\n",
    "\n",
    "[//]: # \"Note, for the division, the final result could be intuitively interpreted as \n",
    "\\begin{equation*}\n",
    "\\frac{f(x) + f(x)'\\epsilon}{g(x) + g(x)'\\epsilon} = \\frac{f(x)}{g(x)} + \\left(\\frac{f(x)}{g(x)}\\right)' \\epsilon.\n",
    "\\end{equation*}\""
   ]
  },
  {
   "cell_type": "markdown",
   "metadata": {},
   "source": [
    "## Add methods\n",
    "\n",
    "Now Let's add the rules of dual numbers to Julia's methods."
   ]
  },
  {
   "cell_type": "code",
   "execution_count": 3,
   "metadata": {},
   "outputs": [
    {
     "data": {
      "text/plain": [
       "/ (generic function with 3 methods)"
      ]
     },
     "metadata": {},
     "output_type": "display_data"
    }
   ],
   "source": [
    "import Base: +, *, -, ^, exp, log\n",
    "\n",
    "struct DualNumber{T1, T2} <: Real   \n",
    "    re::T1                # differnt types so (Float64, Int64), etc., is possible\n",
    "    du::T2\n",
    "end\n",
    "\n",
    "+(x::DualNumber, y::DualNumber) = DualNumber(x.re + y.re, x.du + y.du)  # dual addition\n",
    "+(x::DualNumber, a::Number) = DualNumber(x.re + a, x.du)  \n",
    "+(a::Number, x::DualNumber) = DualNumber(x.re + a, x.du) \n",
    "\n",
    "-(x::DualNumber, y::DualNumber) = DualNumber(x.re - y.re, x.du - y.du)  # dual subtraction\n",
    "-(x::DualNumber, a::Number) = DualNumber(x.re - a, x.du)  \n",
    "-(a::Number, x::DualNumber) = DualNumber(a - x.re , -x.du)  \n",
    "\n",
    "*(x::DualNumber, y::DualNumber) = DualNumber(x.re*y.re, x.re*y.du + y.re*x.du)\n",
    "*(x::DualNumber, a::Number) = DualNumber(a*x.re, a*x.du)\n",
    "*(a::Number, x::DualNumber) = DualNumber(a*x.re, a*x.du)\n",
    "\n",
    "# Where is the division rule? Your turn!"
   ]
  },
  {
   "cell_type": "code",
   "execution_count": 2,
   "metadata": {},
   "outputs": [
    {
     "name": "stdout",
     "output_type": "stream",
     "text": [
      "typeof(y) = DualNumber{Float64, Int64}\n",
      "y.re = 2.0\n",
      "y.du = 3\n",
      "s1 = y + 2.5 = DualNumber{Float64, Int64}(4.5, 3)\n",
      "typeof(s1) = DualNumber{Float64, Int64}\n",
      "s1.re = 4.5\n",
      "s1.du = 3\n",
      "\n",
      "s2 = 2.5y = DualNumber{Float64, Float64}(5.0, 7.5)\n",
      "typeof(s2) = DualNumber{Float64, Float64}\n",
      "\n",
      "z = DualNumber{Float64, Float64}(0.5, 0.6)\n",
      "w1 = y + z = DualNumber{Float64, Float64}(2.5, 3.6)\n",
      "typeof(w1) = DualNumber{Float64, Float64}\n",
      "\n",
      "w2 = y * z = DualNumber{Float64, Float64}(1.0, 2.7)\n"
     ]
    },
    {
     "data": {
      "text/plain": [
       "DualNumber{Float64, Float64}(1.0, 2.7)"
      ]
     },
     "metadata": {},
     "output_type": "display_data"
    }
   ],
   "source": [
    "# Let's check the new rules on dual numbers.\n",
    "\n",
    "y = DualNumber(2.0, 3)  # a dual number y = 2 + 3ϵ; note different types\n",
    "\n",
    "@show typeof(y)\n",
    "@show y.re      # check the real part\n",
    "@show y.du      # check the dual part\n",
    "\n",
    "   ## combinations of a dual number and a scalar\n",
    "\n",
    "@show s1 = y + 2.5\n",
    "@show typeof(s1)\n",
    "@show s1.re\n",
    "@show s1.du\n",
    "\n",
    "println()\n",
    "\n",
    "@show s2 = 2.5*y\n",
    "@show typeof(s2)\n",
    "\n",
    "\n",
    "  ## combinations of two dual numbers\n",
    "\n",
    "z = DualNumber(0.5, 0.6)\n",
    "\n",
    "println()\n",
    "\n",
    "@show z\n",
    "@show w1 = y+z\n",
    "@show typeof(w1)\n",
    "\n",
    "println()\n",
    "\n",
    "@show w2 = y*z\n",
    "# @show w3 = y/z"
   ]
  },
  {
   "cell_type": "markdown",
   "metadata": {},
   "source": [
    " \n",
    "### others\n",
    "\n",
    "For other operations such as power rules and exponential function, we may use Taylor expansion to help us derive results. \n",
    "\n",
    "#### Taylor expansion: preliminary\n",
    "\n",
    "Recall that we can expand a function $f(x)$ at the point of $x=a$ using the Taylor series:\n",
    "\n",
    "\\begin{align}\n",
    "f(x) = f(a) + \\frac{1}{1!}f'(a)(x-a) + \\frac{1}{2!}f''(a)(x-a)^2 + \\frac{1}{3!}f'''(a)(x-a)^3 + \\ldots.\n",
    "\\end{align}\n",
    "\n",
    "The equation says that we can use information about $f(a)$ (viz, the right-hand-side of the above equation) to approximate the unknown function $f(x)$ near $x=a$. So, if we now want to know the value of $f(x)$ evaluated at $x=c$, using the approximation equation we have\n",
    "\n",
    "\\begin{align}\n",
    "f(c) = f(a) + f'(a)(c-a) + \\frac{1}{2!}f''(a)(c-a)^2 + \\frac{1}{3!}f'''(a)(c-a)^3 + \\ldots.\n",
    "\\end{align}\n",
    "\n",
    "\n",
    "\n",
    "Here comes the key part: Suppose now we want to use the approximation equation to get the value of $f(x)$ at the dual number of $x=a+b\\epsilon$ (which means $x-a = b\\epsilon$). The value would be:\n",
    "\n",
    "\\begin{align}\n",
    "f(a+b\\epsilon) & = f(a) + f'(a)b\\epsilon + \\frac{1}{2}f''(a)(b\\epsilon)^2  + \\ldots \\\\\n",
    "\\Longrightarrow \\quad  f(a+b\\epsilon)  & = f(a) + f'(a) b \\epsilon.\n",
    "\\end{align}\n",
    "\n",
    "\n",
    "Notice that the RHS of the equation has only two terms. It is because $\\epsilon^n =0$ for $n\\geq2$ and so the higher order terms are all equal to 0. Now look at the 2nd term on the RHS of the equation: There is an $f'(a)$, which is the derivative of $f(x)$ evaluated at $x=a$. This is the key result that helps us to get the derivative of $f(x)$ at a given value. We'll come back to this important point later. Before that, we will use the equation to derive operation rules for dual numbers.\n"
   ]
  },
  {
   "cell_type": "markdown",
   "metadata": {},
   "source": [
    "#### apply to the power rule\n",
    "\n",
    "Let $f(x) = x^n$ and so $f'(x) = nx^{n-1}$. For a dual number, it means $f(a+b\\epsilon) = (a + b\\epsilon)^n$.  Using the result of the Taylor expansion, we have\n",
    "\n",
    "\\begin{align}\n",
    "   f(a+b\\epsilon) & = f(a) + f'(a)b\\epsilon = a^n + na^{n-1}b\\epsilon;\\\\\n",
    "  \\Longrightarrow \\quad (a+b\\epsilon)^n & = a^n + na^{n-1}b\\epsilon. \n",
    "\\end{align}\n",
    "\n",
    "Note that the first \"=\" is according to the Taylor expansion of $f(x)$, and the 2nd \"=\" follows from the definition of $f(x)=x^n$ and $f'(x)=nx^{n-1}$."
   ]
  },
  {
   "cell_type": "markdown",
   "metadata": {},
   "source": [
    "#### apply to the exponential function\n",
    "\n",
    "Let $f(x) = e^x$ and so $f'(x) = e^x$. For a dual number, it means $f(a+b\\epsilon) = e^{a+b\\epsilon}$. Applying the Taylor expansion, we have\n",
    "\n",
    "\\begin{align}\n",
    " f(a +b\\epsilon) & = f(a) + f'(a)b\\epsilon = e^a + e^a b\\epsilon; \\\\\n",
    "\\Longrightarrow \\quad e^{a+b\\epsilon} & = e^a + e^a b\\epsilon.\n",
    "\\end{align}\n",
    "\n",
    "Again, the first \"=\" is according to the Taylor expansion of $f(x)$, and the 2nd \"=\" follows from the definition of $f(x)$ and $f'(x)$.\n"
   ]
  },
  {
   "cell_type": "markdown",
   "metadata": {},
   "source": [
    "#### how about the log() function? Your exercise!"
   ]
  },
  {
   "cell_type": "code",
   "execution_count": 3,
   "metadata": {},
   "outputs": [
    {
     "name": "stdout",
     "output_type": "stream",
     "text": [
      "u1 = exp(y) = DualNumber{Float64, Float64}(7.38905609893065, 22.16716829679195)\n",
      "u1.re = 7.38905609893065\n",
      "u1.du = 22.16716829679195\n",
      "\n",
      "exp(2) = 7.38905609893065\n",
      "exp(2) * 3 = 22.16716829679195\n",
      "typeof(-2) = Int64\n",
      "y ^ 3 = DualNumber{Float64, Float64}(8.0, 36.0)\n"
     ]
    },
    {
     "data": {
      "text/plain": [
       "DualNumber{Float64, Float64}(8.0, 36.0)"
      ]
     },
     "execution_count": 3,
     "metadata": {},
     "output_type": "execute_result"
    }
   ],
   "source": [
    "# Let's add the power rule and the exponential method and see how they work\n",
    "\n",
    "^(x::DualNumber, n::Union{Float64, Int64}) = DualNumber(x.re^n, n*x.re^(n-1)*x.du)  # cannot use n<:Real, since n is variable\n",
    "\n",
    "exp(x::DualNumber) = DualNumber(exp(x.re), exp(x.re)*x.du)\n",
    "\n",
    "y = DualNumber(2.0, 3.0)  # a dual number y = 2 + 3ϵ\n",
    "\n",
    "@show u1 = exp(y)    # take exponential of the dual number; should be exp(2) + exp(2)*3*ϵ\n",
    "@show u1.re\n",
    "@show u1.du\n",
    "\n",
    "println()\n",
    "\n",
    "@show exp(2)    # check with the real part\n",
    "@show exp(2)*3  # check with the dual part\n",
    "\n",
    "@show typeof(-2)\n",
    "\n",
    "@show y^(3)    # y^(-(1))"
   ]
  },
  {
   "cell_type": "markdown",
   "metadata": {},
   "source": [
    "## Automatic Differentiation: Combinations of Chain Rules and Dual Numbers\n",
    "\n",
    "Recall that for a function $f(x)$, if $x$ is evaluated at a dual number $a+b\\epsilon$, we have\n",
    "\n",
    "\\begin{align}\n",
    "  f(a+b\\epsilon) = f(a) + f'(a) b \\epsilon.\n",
    "\\end{align}\n",
    "\n",
    "Let $b=1$, then\n",
    "\n",
    "\\begin{align}\n",
    "  f(a+\\epsilon) = f(a) + f'(a)  \\epsilon.\n",
    "\\end{align}\n",
    "\n",
    "Notice that the dual part of the equation, $f'(a)$, is the derivative of $f(x)$ evaluated at $x=a$. \n",
    "\n",
    ">> **The result provides a method of obtaining the derivative of $f(x)$ at $x=a$: We simply augment $a$ to a dual number, evaluate the dual number in $f(x)$, and the dual part of the result is the derivative $f'(a)$.**\n",
    "\n",
    "More specifically,\n",
    "\n",
    "- Augment $x=a$ by a nilpotent $\\epsilon$ and get the dual number $\\tilde{x} = a + \\epsilon$.\n",
    "\n",
    "- Plug in $\\tilde{x}$ to $f(x)$ and get $f(\\tilde{x}) = f(a+\\epsilon) = f(a) + f'(a)\\epsilon$.\n",
    "\n",
    "- The dual part of $f(\\tilde{x})$, which is $f'(a)$, is the derivative of $f(x)$ evaluated at $x=a$.\n",
    "\n",
    "What seems _**miracle**_ is that in the _**transform $->$ evaluation process**_, we do not conduct any kind of _**derivative**_ in the traditional sense. We simply evaluate the dual number at the function level, and we obtain the derivative _**for free**_!  But is it really a miracle? Does the derivative really come from nowhere? Surely not. The calculation has been done in our definition of dual number operations. To see this, let's try a simple example where we want to calculate the derivative of $f(y) = 3y^2 + 1$."
   ]
  },
  {
   "cell_type": "code",
   "execution_count": 4,
   "metadata": {},
   "outputs": [
    {
     "name": "stdout",
     "output_type": "stream",
     "text": [
      "mydf.du = 12.0\n",
      "df(2.0) = 12.0\n"
     ]
    },
    {
     "data": {
      "text/plain": [
       "12.0"
      ]
     },
     "execution_count": 4,
     "metadata": {},
     "output_type": "execute_result"
    }
   ],
   "source": [
    "x0 = 2.0\n",
    "\n",
    "f(y) = 3*y^2 + 1\n",
    "df(y) = 6y       # true answer, derived by hand\n",
    "\n",
    "x = DualNumber(x0, 1.0)\n",
    "mydf = f(x)\n",
    "\n",
    "@show mydf.du   # result from dual number\n",
    "@show df(2.0)   # result from analytic equation "
   ]
  },
  {
   "cell_type": "markdown",
   "metadata": {},
   "source": [
    "The example shows that the dual-number-based derivative is as good as that by hand calculation. We obtain the result by simply  plugging in $a+\\epsilon$ into function and then read from the dual part of the result.\n",
    "\n",
    "Why does it work? Where does the derivative come from? Well, this equation involves a power function, and the derivative of the power function is already there when we define the power rule of dual numbers.\n",
    "\n",
    "So this example is straightforward. But let's consider a slightly complicated example which will motivate us to look at **\"automatic differentiation\"**.\n",
    "\n",
    "Let $f(x) = e^{e^x}$ and we will use the dual number to calculate the function's derivative at $x=2$. "
   ]
  },
  {
   "cell_type": "code",
   "execution_count": 5,
   "metadata": {},
   "outputs": [
    {
     "name": "stdout",
     "output_type": "stream",
     "text": [
      "res.du = 41.193555674716116\n",
      "df(x0) = 41.193555674716116\n"
     ]
    },
    {
     "data": {
      "text/plain": [
       "41.193555674716116"
      ]
     },
     "execution_count": 5,
     "metadata": {},
     "output_type": "execute_result"
    }
   ],
   "source": [
    "x0 = 1  \n",
    "\n",
    "f(x) = exp(exp(x))\n",
    "df(x) = exp(exp(x))*exp(x)  # true answer, derived by hand\n",
    "\n",
    "x_tilde = DualNumber(x0, 1.0) # dual number, with the real part being the target value\n",
    "\n",
    "res = f(x_tilde)       # evaluate the function at the dual number\n",
    "\n",
    "@show res.du           # should be the derivative of f(x) at x=x0.\n",
    "\n",
    "@show df(x0)           # check with the symbolic equation"
   ]
  },
  {
   "cell_type": "markdown",
   "metadata": {},
   "source": [
    "Again, the derivative based on dual numbers is easily obtained and is amazingly accurate, but where does the result come from? We didn't define the rule for the exponential-exponential function for dual numbers, right? \n",
    "\n",
    "Intuitively, the double exponential function is nothing but applying the the exponential function twice. Thus, the dual number is applied twice in the process and the result is obtained. \n",
    "\n",
    "_**Q: Who applied the exponential function twice? I certainly did not. I just click the button.**_\n",
    "\n",
    "\n",
    "_**A: Computer did. To evaluate a function, a computer's algorithms would apply chain rules repeatedly on sequence of elementary arithmetic operations (addition, subtraction, multiplication, division, etc.) and elementary functions (exp, log, sin, cos, etc.). Using dual numbers and applying chain rules, we get the automatic differentiation.**_"
   ]
  },
  {
   "cell_type": "code",
   "execution_count": 6,
   "metadata": {},
   "outputs": [],
   "source": [
    "#=\n",
    "import Base: convert, promote_rule\n",
    "convert(::Type{DualNumber}, x::Real) = DualNumber(x, zero(x))\n",
    "promote_rule(::Type{DualNumber}, ::Type{<:Number}) = DualNumber\n",
    "=#"
   ]
  },
  {
   "cell_type": "markdown",
   "metadata": {},
   "source": [
    "### Computational Graph\n",
    "\n",
    "Auto Differentiation exploits the fact that every computer program, no matter how complicated, executes a sequence of elementary arithmetic operations (addition, subtraction, multiplication, division, etc.) and elementary functions (exp, log, sin, cos, etc.). By applying the chain rule repeatedly to these operations, we get differentiations on functions that may appear to be complicated. \n",
    "\n",
    "For example, let $f(x) = \\frac{x^{1-r} - 1}{1-r}$ and find $f'(x)$ at $x=2$. Below is a computation graph of $f(x)$, decomposing $f(x)$ into several elementary operations. "
   ]
  },
  {
   "cell_type": "markdown",
   "metadata": {},
   "source": [
    "![title](auto_diff2.png)"
   ]
  },
  {
   "cell_type": "markdown",
   "metadata": {},
   "source": [
    "|  Trace  |    Value ($v_i$)    |                         Derivative ($v_i'$)                        |                 dual number $$(v_i,v_i')$$                |\n",
    "|:-------:|:-------------------:|:------------------------------------------------------------------:|:---------------------------------------------:|\n",
    "| $$v_1$$ |     $$x^{1-r}$$     | $$v_1'=(1-r)x^{-r}$$                                               |      $$\\left(2^{1-r},(1-r)2^{-r}\\right)$$     |\n",
    "| $$v_2$$ |      $$v_1-1$$      | $$v_2' = \\frac{\\partial v_2}{\\partial v_1} v_1'=v_1'$$             |    $$\\left(2^{1-r}-1,(1-r)2^{-r} \\right)$$    |\n",
    "| $$v_3$$ | $$\\frac{v_2}{1-r}$$ | $$v_3' = \\frac{\\partial v_3}{\\partial v_2} v_2'=\\frac{v_2'}{1-r}$$ | $$\\left(\\frac{2^{1-r}-1}{1-r},2^{-r}\\right)$$ |"
   ]
  },
  {
   "cell_type": "markdown",
   "metadata": {},
   "source": [
    "The final result we wish to obtain is $\\frac{d}{d x} v3$ which, using the chain rule, is $\\frac{1}{1-r}\\frac{\\partial}{\\partial x}v_2$. The $\\frac{\\partial}{\\partial x}v_2$ could also be calculated using the chain rule by $\\frac{\\partial}{\\partial x}v_1$. We can do the similar thing to $\\frac{\\partial}{\\partial x}v_1$.\n",
    "\n",
    "The insight here is that in order to get $\\frac{df}{dx}$, we will use all of the values and derivatives of each nodes, and the calculation on each node involves only elementary arithmetic operations (addition, subtraction, multiplication, division, etc.) and elementary functions (exp, log, sin, cos, etc.). We have defined how dual numbers should behave in these operations and functions, and so we could apply dual numbers to $f(x)$, which will then be carried over through the nodes and produce $(v_i, v_i')$ at each node. The final answer is the dual part of the final evaluation."
   ]
  },
  {
   "cell_type": "markdown",
   "metadata": {},
   "source": [
    "The above sequence of operations can be carried out either forward (_**forward mode**_) or backward (_**reverse mode**_). We show how they are done using the example above. Recall we have $y=f(x)=v_3$.\n",
    "\n",
    "### Forward mode\n",
    "$$\\begin{align}\n",
    "    \\frac{\\partial y}{\\partial x} &= \\frac{\\partial v_3}{\\partial v_2}\\frac{\\partial v_2}{\\partial x} = \\frac{\\partial v_3}{\\partial v_2}\\left(\\frac{\\partial v_2}{\\partial v_1}\\frac{\\partial v_1}{\\partial x}\\right) \\\\\n",
    "    \\notag\\\\\n",
    "    &= \\frac{\\partial v_3}{\\partial v_2}\\left(\\frac{\\partial v_2}{\\partial v_1} (1-r)x^{-r}\\right) \\\\\n",
    "    \\notag\\\\\n",
    "    &= \\frac{\\partial v_3}{\\partial v_2}(1-r)x^{-r} \\\\\n",
    "    \\notag\\\\\n",
    "    &= \\frac{1}{1-r}(1-r)x^{-r} = x^{-r}\n",
    "\\end{align}$$ \n",
    "\n",
    "Note that the order of calculation is: $\\frac{\\partial v_1}{\\partial x}$ -> $\\frac{\\partial v_2}{\\partial v_1}$ ->  $\\frac{\\partial v_3}{\\partial v_2}$. Thus the \"forward mode\".\n",
    "\n",
    "### Reverse mode\n",
    "$$\\begin{align}\n",
    "    \\frac{\\partial y}{\\partial x} &= \\frac{\\partial v_3}{\\partial v_1}\\frac{\\partial v_1}{\\partial x} = \\left(\\frac{\\partial v_3}{\\partial v_2}\\frac{\\partial v_2}{\\partial v_1} \\right)\\frac{\\partial v_1}{\\partial x} \\\\\n",
    "    \\notag \\\\\n",
    "    &= \\left(\\frac{1}{1-r}\\frac{\\partial v_2}{\\partial v_1}\\right)\\frac{\\partial v_1}{\\partial x} \\\\\n",
    "    \\notag \\\\\n",
    "    &= \\left(\\frac{1}{1-r}\\right)\\frac{\\partial v_1}{\\partial x} \\\\\n",
    "    \\notag \\\\\n",
    "    &= \\left(\\frac{1}{1-r}\\right)(1-r)x^{-r} = x^{-r}\n",
    "\\end{align}$$\n",
    "\n",
    "Note that the order of calculation is: $\\frac{\\partial v_3}{\\partial v_2}$ -> $\\frac{\\partial v_2}{\\partial v_1}$ ->  $\\frac{\\partial v_1}{\\partial x}$. Thus the \"reverse mode\".\n",
    "\n",
    "Remark: When implemented in computer algorithms, the reverse mode tend to be more efficient (less calculation) but it is harder to code and requires more storage."
   ]
  },
  {
   "cell_type": "markdown",
   "metadata": {},
   "source": [
    "### Autodiff for 2nd Derivatives\n",
    "\n",
    "Extending the above procedures to 2nd derivatives is not straightforward. One way to do it is to use specialized algorithms that, in a sense, takes another round of froward and reverse sweep on the computational graph. \n",
    "\n",
    "Another way is to use _**hyper dual numbers**_ which has one real part and three non-real parts, as follows:\n",
    "\n",
    "\\begin{equation}\n",
    "  c = a + b_1 \\epsilon_1 + b_2 \\epsilon_2 + b_3 \\epsilon_1 \\epsilon_2,\n",
    "\\end{equation}\n",
    "where\n",
    "\\begin{align}\n",
    "   \\epsilon_1^2 = \\epsilon_2^2 =0, \\\\\n",
    "   \\epsilon_1\\epsilon_2 = \\epsilon_2 \\epsilon_1 \\neq 0.\n",
    "\\end{align}\n",
    "\n",
    "Applying the hyper dual numbers to calculate second derivatives follows more or less similar procedures as we have discussed above on 1st derivatives, but the details are beyond the scope of this lecture."
   ]
  },
  {
   "cell_type": "code",
   "execution_count": 7,
   "metadata": {},
   "outputs": [],
   "source": [
    "# Pkg.build(\"PyCall\")"
   ]
  },
  {
   "cell_type": "code",
   "execution_count": 8,
   "metadata": {},
   "outputs": [],
   "source": [
    "# using Pkg; Pkg.add(\"SymPy\")\n",
    "using SymPy"
   ]
  },
  {
   "cell_type": "code",
   "execution_count": 9,
   "metadata": {},
   "outputs": [
    {
     "data": {
      "text/plain": [
       "\"Elementary operations of each node \""
      ]
     },
     "metadata": {},
     "output_type": "display_data"
    },
    {
     "data": {
      "text/latex": [
       "$x^{1 - r}$"
      ],
      "text/plain": [
       " 1 - r\n",
       "x     "
      ]
     },
     "metadata": {},
     "output_type": "display_data"
    },
    {
     "data": {
      "text/latex": [
       "$x^{1 - r} - 1$"
      ],
      "text/plain": [
       " 1 - r    \n",
       "x      - 1"
      ]
     },
     "metadata": {},
     "output_type": "display_data"
    },
    {
     "data": {
      "text/latex": [
       "$\\frac{x^{1 - r} - 1}{\\left(1 - r\\right)^{1.0}}$"
      ],
      "text/plain": [
       "       -1.0 / 1 - r    \\\n",
       "(1 - r)    *\\x      - 1/"
      ]
     },
     "metadata": {},
     "output_type": "display_data"
    },
    {
     "data": {
      "text/plain": [
       "\"Derivatives of each node \""
      ]
     },
     "metadata": {},
     "output_type": "display_data"
    },
    {
     "data": {
      "text/latex": [
       "$x^{- r} \\left(1 - r\\right)$"
      ],
      "text/plain": [
       " -r        \n",
       "x  *(1 - r)"
      ]
     },
     "metadata": {},
     "output_type": "display_data"
    },
    {
     "data": {
      "text/latex": [
       "$x^{- r} \\left(1 - r\\right)$"
      ],
      "text/plain": [
       " -r        \n",
       "x  *(1 - r)"
      ]
     },
     "metadata": {},
     "output_type": "display_data"
    },
    {
     "data": {
      "text/latex": [
       "$x^{- r}$"
      ],
      "text/plain": [
       " -r\n",
       "x  "
      ]
     },
     "metadata": {},
     "output_type": "display_data"
    }
   ],
   "source": [
    "# Define each elementary operation used and its derivative. This part is only for illustration.\n",
    "function v1(x,r)\n",
    "    return x^(1-r)\n",
    "end\n",
    "\n",
    "function v2(x,r)\n",
    "    return x-1\n",
    "end\n",
    "\n",
    "function v3(x,r)\n",
    "    return x* (1-r)^(-1.0)\n",
    "end\n",
    "\n",
    "function dv1(x,r)\n",
    "    return (1-r) * x^(-r)\n",
    "end\n",
    "\n",
    "function dv2(x,r)\n",
    "    return dv1(x,r)    #？\n",
    "end\n",
    "\n",
    "function dv3(x,r)\n",
    "    return dv2(x,r) * (1-r)^(-1.0)\n",
    "end\n",
    "\n",
    "# Symbolic representation\n",
    "x, r = symbols(\"x,r\")\n",
    "display(\"Elementary operations of each node \" )\n",
    "v1(x,r) |> display\n",
    "v2(v1(x,r),r) |> display\n",
    "v3(v2(v1(x,r),r),r) |> display\n",
    "\n",
    "display(\"Derivatives of each node \" )\n",
    "dv1(x,r) |> display\n",
    "dv2(x,r) |> display\n",
    "dv3(x,r) |> display"
   ]
  },
  {
   "cell_type": "code",
   "execution_count": 10,
   "metadata": {},
   "outputs": [
    {
     "data": {
      "text/plain": [
       "f_AD_DualNum (generic function with 1 method)"
      ]
     },
     "execution_count": 10,
     "metadata": {},
     "output_type": "execute_result"
    }
   ],
   "source": [
    "# define f(x) = (x^{1-r}-1)/(1-r)\n",
    "\n",
    "function f_AD_Sym(x,r) # auto diff's 的內部操作; no use of dual numbers\n",
    "    f = x^(1-r)\n",
    "        df = (1-r) * x^(-r)\n",
    "    f = f-1\n",
    "        df = df\n",
    "    f = f * (1-r)^(-1.0)\n",
    "        df = df * (1-r)^(-1.0)\n",
    "    return df\n",
    "end\n",
    "\n",
    "\n",
    "\n",
    "function f_AD_DualNum(x,r) # we've defined DualNumber for +,-,*,^, so all the operation should base on these\n",
    "    f = x^(1-r)  \n",
    "    f = f-1\n",
    "    f = f * (1-r)^(-1.0)\n",
    "    return f\n",
    "end\n",
    "\n"
   ]
  },
  {
   "cell_type": "code",
   "execution_count": 11,
   "metadata": {},
   "outputs": [
    {
     "data": {
      "text/plain": [
       "\"The symbolic form of the derivative of f(x) \""
      ]
     },
     "metadata": {},
     "output_type": "display_data"
    },
    {
     "data": {
      "text/latex": [
       "$x^{- r}$"
      ],
      "text/plain": [
       " -r\n",
       "x  "
      ]
     },
     "metadata": {},
     "output_type": "display_data"
    }
   ],
   "source": [
    "display(\"The symbolic form of the derivative of f(x) \")\n",
    "f_AD_Sym(x,r) |> display"
   ]
  },
  {
   "cell_type": "code",
   "execution_count": 12,
   "metadata": {},
   "outputs": [
    {
     "data": {
      "text/plain": [
       "0.25"
      ]
     },
     "execution_count": 12,
     "metadata": {},
     "output_type": "execute_result"
    }
   ],
   "source": [
    "# The derivative of f(x) (with r=2.0) at x=2 using symbolic form\n",
    "f_AD_Sym(2, 2.0)"
   ]
  },
  {
   "cell_type": "code",
   "execution_count": 13,
   "metadata": {},
   "outputs": [
    {
     "data": {
      "text/plain": [
       "DualNumber{Float64, Float64}(0.5, 0.25)"
      ]
     },
     "execution_count": 13,
     "metadata": {},
     "output_type": "execute_result"
    }
   ],
   "source": [
    "# The derivative of f(x) (with r=2.0) at x=2 using Dual Numbers\n",
    "\n",
    "f_AD_DualNum(DualNumber(2,1), 2.0)"
   ]
  },
  {
   "cell_type": "markdown",
   "metadata": {},
   "source": [
    "## reference:\n",
    "\n",
    "https://harvard-iacs.github.io/2019-CS207/lectures/lecture10/notebook/\n",
    "\n",
    "\n",
    "https://en.wikipedia.org/wiki/Automatic_differentiation\n",
    "\n",
    "https://github.com/MikeInnes/diff-zoo\n",
    "\n",
    "https://julia.quantecon.org/more_julia/optimization_solver_packages.html\n",
    "\n",
    "https://arxiv.org/pdf/1502.05767.pdf\n",
    "\n",
    "https://marksaroufim.medium.com/automatic-differentiation-step-by-step-24240f97a6e6\n",
    "\n",
    "https://towardsdatascience.com/build-your-own-automatic-differentiation-program-6ecd585eec2a\n",
    "\n"
   ]
  }
 ],
 "metadata": {
  "@webio": {
   "lastCommId": null,
   "lastKernelId": null
  },
  "kernelspec": {
   "display_name": "Julia 1.10.1",
   "language": "julia",
   "name": "julia-1.10"
  },
  "language_info": {
   "file_extension": ".jl",
   "mimetype": "application/julia",
   "name": "julia",
   "version": "1.10.1"
  },
  "toc": {
   "base_numbering": 1,
   "nav_menu": {},
   "number_sections": true,
   "sideBar": true,
   "skip_h1_title": false,
   "title_cell": "Table of Contents",
   "title_sidebar": "Contents",
   "toc_cell": false,
   "toc_position": {},
   "toc_section_display": true,
   "toc_window_display": false
  }
 },
 "nbformat": 4,
 "nbformat_minor": 4
}
