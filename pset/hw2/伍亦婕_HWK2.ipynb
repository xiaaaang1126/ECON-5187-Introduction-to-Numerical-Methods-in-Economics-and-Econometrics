{
 "cells": [
  {
   "cell_type": "markdown",
   "id": "c471dc72",
   "metadata": {},
   "source": [
    "# 作業2"
   ]
  },
  {
   "cell_type": "markdown",
   "id": "54d1a0f9",
   "metadata": {},
   "source": [
    "## Draw Random Numbers from Uniform Distributions\n",
    "\n",
    "### Write code to draw a set of 10,000 random numbers that is uniformly distributed in (-2,3). \n",
    " - Hint: Stretch $U(0,1)$ to fit the bound of $U(-2,3)$.\n",
    " \n",
    "### What are the theoretical mean and standard deviation of the distribution $U(-2,3)$ ?\n",
    " \n",
    "### Show the mean and the standard deviation of the set of random numbers you've drawn. "
   ]
  },
  {
   "cell_type": "code",
   "execution_count": 34,
   "id": "06e1d90d",
   "metadata": {},
   "outputs": [
    {
     "name": "stdout",
     "output_type": "stream",
     "text": [
      "theoretically, the mean is 1/2\n",
      "theoretically, the standard deviation is 1.4433756729740645\n",
      "The mean of random_numbers from U(-2,3) is 0.5045921347934703\n",
      "The standard deviation of random_numbers from U(-2,3) is 1.445323756918012\n"
     ]
    }
   ],
   "source": [
    "# Package\n",
    "using Random, Plots, Statistics\n",
    "\n",
    "## 1. use rand() function to generate U(0,5)\n",
    "random_numbers = rand(10000)*5\n",
    "\n",
    "# Minus 2 to get U(-2,3)\n",
    "random_numbers = random_numbers .- 2\n",
    "\n",
    "plot(random_numbers)\n",
    "\n",
    "## 2. theoretical mean and standard deviation\n",
    "standard = sqrt(25/12)\n",
    "println(\"theoretically, the mean is 1/2\")\n",
    "println(\"theoretically, the standard deviation is \", standard)\n",
    "\n",
    "## 3. Show the mean and standard deviation of the random_numbers\n",
    "mean_value = mean(random_numbers)\n",
    "variance_value = var(random_numbers)\n",
    "standard_value = sqrt(variance_value)\n",
    "\n",
    "# print the resulsts\n",
    "println(\"The mean of random_numbers from U(-2,3) is \", mean_value)\n",
    "println(\"The standard deviation of random_numbers from U(-2,3) is \", standard_value)\n"
   ]
  },
  {
   "cell_type": "markdown",
   "id": "71bf5a93",
   "metadata": {},
   "source": [
    "## Draw Random Numbers from Normal Distributions\n",
    "\n",
    "### Use `randn()` to draw a $1000\\times 2$ matrix of random numbers from $N(2,3)$ (a normal distribution with mean=2 and variance=3). Use `mean()` and `var()` to show that the empirical mean and variance are close to the theoretical values.\n",
    "- Hint: `randn()` generates N(0,1) random variables; you have to scale it to the appropriate mean and variance.\n",
    "- Hint: For constants `a` and `b`: $x \\sim N(\\mu, \\sigma^2)$, then $a*x \\sim N(a*\\mu, \\ a^2 \\sigma^2)$ and $x+b \\sim N(\\mu+b, \\ \\sigma^2)$.\n",
    "\n",
    "### Use `rand()` to draw a $1000\\times 2$ matrix of random numbers from $N(2,3)$. Use `mean()` and `var()` to show that the empirical mean and variance are close to the theoretical values.\n",
    "- Hint: `rand()` could take distributions as arguments, as we've shown in the class."
   ]
  },
  {
   "cell_type": "code",
   "execution_count": 39,
   "id": "cde2fae1",
   "metadata": {},
   "outputs": [
    {
     "name": "stdout",
     "output_type": "stream",
     "text": [
      "the empirical means are: [1.9909575880641537 2.043526115520693]\n",
      "the empirical variances are: [2.8569062689833253 3.2583558887645316]\n",
      "the empirical means (from `rand` function) are: [1.9575345426890969 2.0437266105214493]\n",
      "the empirical variances (from `rand` function) are: [3.1071128296971455 3.2227344009513232]\n"
     ]
    }
   ],
   "source": [
    "using Statistics\n",
    "using Distributions\n",
    "\n",
    "### Use randn() function ###\n",
    "# draw a 1000 x 2 matrix from N(2,3)\n",
    "random_matrix = randn(1000, 2)\n",
    "\n",
    "# 缩放随机数以符合 N(2,3) 分布\n",
    "scaled_matrix = sqrt(3) * random_matrix .+ 2\n",
    "\n",
    "# 计算随机数的均值和方差\n",
    "empirical_mean = mean(scaled_matrix, dims=1)\n",
    "empirical_variance = var(scaled_matrix, dims=1)\n",
    "\n",
    "# 打印结果\n",
    "println(\"the empirical means are: \", empirical_mean)\n",
    "println(\"the empirical variances are: \", empirical_variance)\n",
    "\n",
    "### Use rand() function ###\n",
    "# draw a 1000 x 2 matrix from N(2,3)\n",
    "random_matrix_1 = rand(Normal(2, sqrt(3)), 1000, 2)\n",
    "\n",
    "# 计算随机数的均值和方差\n",
    "empirical_mean_1 = mean(random_matrix_1, dims=1)\n",
    "empirical_variance_1 = var(random_matrix_1, dims=1)\n",
    "\n",
    "# 打印结果\n",
    "println(\"the empirical means (from `rand` function) are: \", empirical_mean_1)\n",
    "println(\"the empirical variances (from `rand` function) are: \", empirical_variance_1)\n",
    "\n"
   ]
  },
  {
   "cell_type": "markdown",
   "id": "87cf30eb",
   "metadata": {},
   "source": [
    "## Draw Regression Data: Cross-Sectional Model\n",
    "\n",
    "Suppose you write your own routine to do fancy estimation on cross-sectional and panel data models. You want to conduct a Monte Carlo analysis to see if the routine works as expected and the returned answer is correct. The first thing you have to do is to generate data with pre-specified parameter values. (So that you could apply your estimation routine to the data and see if the estimated parameter values match the pre-specified (*true*) values.) \n",
    "\n",
    "Let's start from the cross-sectional model. The model is:\n",
    "\\begin{aligned} \n",
    "  y_i & = \\alpha + \\beta' x_i + \\epsilon_i,\\qquad i=1,\\ldots,N,\\\\\n",
    "  \\epsilon_i & \\sim N(0, \\sigma^2).\n",
    "\\end{aligned}   \n",
    "\n",
    "There could be more than one $x_i$ variable in the model; let's denote the number of $x_i$ as $\\textrm{nof X}$. Write a function to generate data $\\{y_i, x_i\\}$.The function should allow users to choose values of $\\{\\alpha, \\beta, \\sigma^2, \\textrm{nof X}, N\\}$.\n",
    "  - Hint: The $x_i$s are assumed (in econometrics) to be fixed and exogenous and therefore the distribution from which they are generated is inconsequential. （前面那句看不懂意思沒關係，重要是下面這句：）You may assume that they are generated from normal distributions."
   ]
  },
  {
   "cell_type": "code",
   "execution_count": 2,
   "id": "00e43861",
   "metadata": {},
   "outputs": [
    {
     "ename": "DimensionMismatch",
     "evalue": "DimensionMismatch: second dimension of A, 3, does not match length of x, 5",
     "output_type": "error",
     "traceback": [
      "DimensionMismatch: second dimension of A, 3, does not match length of x, 5\n",
      "\n",
      "Stacktrace:\n",
      " [1] gemv!(y::Vector{Float64}, tA::Char, A::Matrix{Float64}, x::Vector{Float64}, α::Bool, β::Bool)\n",
      "   @ LinearAlgebra ~/.julia/juliaup/julia-1.10.1+0.aarch64.apple.darwin14/share/julia/stdlib/v1.10/LinearAlgebra/src/matmul.jl:404\n",
      " [2] generic_matvecmul!\n",
      "   @ ~/.julia/juliaup/julia-1.10.1+0.aarch64.apple.darwin14/share/julia/stdlib/v1.10/LinearAlgebra/src/matmul.jl:71 [inlined]\n",
      " [3] mul!\n",
      "   @ ~/.julia/juliaup/julia-1.10.1+0.aarch64.apple.darwin14/share/julia/stdlib/v1.10/LinearAlgebra/src/matmul.jl:66 [inlined]\n",
      " [4] mul!\n",
      "   @ ~/.julia/juliaup/julia-1.10.1+0.aarch64.apple.darwin14/share/julia/stdlib/v1.10/LinearAlgebra/src/matmul.jl:237 [inlined]\n",
      " [5] *\n",
      "   @ ~/.julia/juliaup/julia-1.10.1+0.aarch64.apple.darwin14/share/julia/stdlib/v1.10/LinearAlgebra/src/matmul.jl:53 [inlined]\n",
      " [6] generate_cross_sectional_data(alpha::Float64, beta::Vector{Float64}, sigma2::Float64, nof_X::Int64, N::Int64)\n",
      "   @ Main ~/Library/CloudStorage/GoogleDrive-xiang001126turkey@gmail.com/我的雲端硬碟/NTU_course/112Spring/01_經濟計量數值方法導論/pset/hw2/伍亦婕_HWK2.ipynb:11\n",
      " [7] top-level scope\n",
      "   @ ~/Library/CloudStorage/GoogleDrive-xiang001126turkey@gmail.com/我的雲端硬碟/NTU_course/112Spring/01_經濟計量數值方法導論/pset/hw2/伍亦婕_HWK2.ipynb:23"
     ]
    }
   ],
   "source": [
    "using Distributions\n",
    "using Random\n",
    "Random.seed!(123)\n",
    "\n",
    "function generate_cross_sectional_data(alpha::Float64, beta::Vector{Float64}, sigma2::Float64, nof_X::Int, N::Int)\n",
    "    # Draw the x from Normal\n",
    "    x = rand(Normal(), N, nof_X)\n",
    "    epsilon = rand(Normal(0, sqrt(sigma2)), N)\n",
    "    \n",
    "    # Calculate y_i\n",
    "    y = alpha .+ x * beta .+ epsilon\n",
    "    \n",
    "    return [y,x]\n",
    "end\n",
    "\n",
    "# test\n",
    "alpha = 2.0\n",
    "beta = [3.0,4.0,5.0,6.0,7.0]\n",
    "sigma2 = 4.0\n",
    "nof_X = 3\n",
    "N = 10\n",
    "\n",
    "generate_cross_sectional_data(alpha, beta, sigma2, nof_X, N)\n"
   ]
  },
  {
   "attachments": {
    "image.png": {
     "image/png": "[encoded data removed]"
    }
   },
   "cell_type": "markdown",
   "id": "32631c5c",
   "metadata": {},
   "source": [
    "## Draw Regression Data: Panel Model\n",
    "\n",
    "Suppose you also want to generate panel data to test your routine. The model is\n",
    "\\begin{aligned}\n",
    "    y_{it} & = \\alpha_i + \\beta x_{it} + \\epsilon_{it},\\qquad i=1,\\ldots,N,\\ t=1,\\ldots,T,\\\\\n",
    "   \\epsilon_{it} & \\sim N(0, \\sigma^2).\n",
    "\\end{aligned}   \n",
    "\n",
    "Here, $i$ is the individual index and $t$ is the time index. For instance, $w_{13}$ means the value of $w$ for the 1st individual at 3rd time period. Assume the above model is the random-effect (RE) panel data model where $\\alpha_i \\sim N(0,\\sigma_a^2)$ is a random variable which is independently distributed from $x_{it}$. Write a function to generate data of $\\{y_{it}, x_{it}\\}$ with the options of $\\{\\beta, \\sigma^2, \\sigma_a^2, \\textrm{nofX}, N, T\\}$. \n",
    "\n",
    "  - Hint: Draw $\\alpha_i$ and expand it (`repeat()`) to fill the time periods. Generate $x_{it}$ and $\\epsilon_{it}$. Then combine these elements according to the equation to create $y_{it}$.\n",
    "  - Hint: You don't really need to understand what is RE model to generate the data. Just follow the notation and it should be ok.\n",
    "  - Hint: `repeat()` would be useful here.\n",
    "  - Hint: The structure of the dataset should look like the following. Note that $\\alpha_i$ is constant within a given $i$ but would change acorss different $i$'s. \n",
    "\n",
    "\n",
    "![image.png](attachment:image.png)\n",
    "\n",
    "\n"
   ]
  },
  {
   "cell_type": "code",
   "execution_count": 1,
   "id": "4718156b",
   "metadata": {},
   "outputs": [
    {
     "data": {
      "text/plain": [
       "2-element Vector{Array{Float64, 3}}:\n",
       " [-2.30518721701721 -4.735675463486759 … -1.7245038378021795 0.6196762992015336; -1.2070799160738448 -6.877995445523221 … 2.4958043106802132 -7.957968567474445; -4.653336225674783 -4.578188107179938 … -5.217340526388286 2.400684239165747;;;]\n",
       " [-0.4169926351649334 -0.4217686643996927 … 0.14837536667608195 0.1707967032029406; 0.28758798062385577 -1.355590621101197 … 1.0096134137351438 -1.7171200973796241; 0.2298186980518676 -0.06193742954771313 … 0.028766636052271793 1.1067814366003583;;;]"
      ]
     },
     "metadata": {},
     "output_type": "display_data"
    }
   ],
   "source": [
    "using Distributions\n",
    "using Random\n",
    "Random.seed!(123)\n",
    "\n",
    "function generate_panel_data(beta::Float64, sigma2::Float64, sigma2_alpha::Float64, nof_X::Int, N::Int, T::Int)\n",
    "    # generate alpha_i, from N(0, sigma2_alpha)\n",
    "    alpha = rand(Normal(0, sqrt(sigma2_alpha)), N)\n",
    "    \n",
    "    # 将每个个体的随机效应扩展到所有时间期间\n",
    "    alpha_panel = repeat(alpha, 1,T)\n",
    "    \n",
    "    # 生成 x_it 数据，假设从标准正态分布中抽取\n",
    "    x = rand(Normal(), N, T, nof_X)\n",
    "    \n",
    "    # 生成误差项 ε_it，假设从 N(0, σ²) 分布中抽取\n",
    "    epsilon = rand(Normal(0, sqrt(sigma2)), N, T)\n",
    "    \n",
    "    # 计算 y_it\n",
    "    y = alpha_panel .+ x * beta .+ epsilon\n",
    "    \n",
    "    return [y,x]\n",
    "end\n",
    "\n",
    "# test\n",
    "alpha = 2.0\n",
    "beta = 3.0\n",
    "sigma2 = 4.0\n",
    "sigma2_alpha = 3.0\n",
    "nof_X = 1\n",
    "N = 3\n",
    "T = 10\n",
    "\n",
    "generate_panel_data(beta, sigma2, sigma2_alpha, nof_X, N,T)"
   ]
  }
 ],
 "metadata": {
  "@webio": {
   "lastCommId": null,
   "lastKernelId": null
  },
  "kernelspec": {
   "display_name": "Julia 1.10.1",
   "language": "julia",
   "name": "julia-1.10"
  },
  "language_info": {
   "file_extension": ".jl",
   "mimetype": "application/julia",
   "name": "julia",
   "version": "1.10.1"
  },
  "toc": {
   "base_numbering": 1,
   "nav_menu": {},
   "number_sections": true,
   "sideBar": true,
   "skip_h1_title": true,
   "title_cell": "Table of Contents",
   "title_sidebar": "Contents",
   "toc_cell": false,
   "toc_position": {},
   "toc_section_display": true,
   "toc_window_display": true
  }
 },
 "nbformat": 4,
 "nbformat_minor": 5
}
