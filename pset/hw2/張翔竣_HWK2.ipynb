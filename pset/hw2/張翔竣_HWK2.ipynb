{
 "cells": [
  {
   "cell_type": "markdown",
   "id": "c471dc72",
   "metadata": {},
   "source": [
    "# 作業2"
   ]
  },
  {
   "cell_type": "markdown",
   "id": "54d1a0f9",
   "metadata": {},
   "source": [
    "## Draw Random Numbers from Uniform Distributions\n",
    "\n",
    "### Write code to draw a set of 10,000 random numbers that is uniformly distributed in (-2,3). \n",
    " - Hint: Stretch $U(0,1)$ to fit the bound of $U(-2,3)$.\n",
    " \n",
    "### What are the theoretical mean and standard deviation of the distribution $U(-2,3)$ ?\n",
    " \n",
    "### Show the mean and the standard deviation of the set of random numbers you've drawn. "
   ]
  },
  {
   "cell_type": "code",
   "execution_count": 6,
   "id": "35f32d2b",
   "metadata": {},
   "outputs": [
    {
     "name": "stdout",
     "output_type": "stream",
     "text": [
      "Theoretically, the mean of U(-2, 3) is 0.5\n",
      "Theoretically, the standard deviation of U(-2, 3) is 1.4433756729740645\n",
      "The mean of the set of random numbers drawn from U(-2,3) is 0.486695900977412\n",
      "The standard deviation of random numbers drawn from U(-2,3) is 1.452403169545675\n"
     ]
    }
   ],
   "source": [
    "using Random, Statistics\n",
    "\n",
    "# Q1-1. use rand() function and generate 10,000 random numbersr drawn from U(0,5)\n",
    "random_numbers = rand(10000)\n",
    "random_numbers = (random_numbers * 5) .- 2\n",
    "\n",
    "# Q1-2. theoretical mean and standard deviation\n",
    "println(\"Theoretically, the mean of U(-2, 3) is \", 0.5)\n",
    "println(\"Theoretically, the standard deviation of U(-2, 3) is \", sqrt(25/12))\n",
    "\n",
    "# Q1-3. show the mean and standard deviation of the random_numbers\n",
    "mean_val = mean(random_numbers)\n",
    "var_val = var(random_numbers)\n",
    "std_val = sqrt(var_val)\n",
    "println(\"The mean of the set of random numbers drawn from U(-2,3) is \", mean_val)\n",
    "println(\"The standard deviation of random numbers drawn from U(-2,3) is \", std_val)\n"
   ]
  },
  {
   "cell_type": "markdown",
   "id": "71bf5a93",
   "metadata": {},
   "source": [
    "## Draw Random Numbers from Normal Distributions\n",
    "\n",
    "### Use `randn()` to draw a $1000\\times 2$ matrix of random numbers from $N(2,3)$ (a normal distribution with mean=2 and variance=3). Use `mean()` and `var()` to show that the empirical mean and variance are close to the theoretical values.\n",
    "- Hint: `randn()` generates N(0,1) random variables; you have to scale it to the appropriate mean and variance.\n",
    "- Hint: For constants `a` and `b`: $x \\sim N(\\mu, \\sigma^2)$, then $a*x \\sim N(a*\\mu, \\ a^2 \\sigma^2)$ and $x+b \\sim N(\\mu+b, \\ \\sigma^2)$.\n",
    "\n",
    "### Use `rand()` to draw a $1000\\times 2$ matrix of random numbers from $N(2,3)$. Use `mean()` and `var()` to show that the empirical mean and variance are close to the theoretical values.\n",
    "- Hint: `rand()` could take distributions as arguments, as we've shown in the class."
   ]
  },
  {
   "cell_type": "code",
   "execution_count": 7,
   "id": "04f0abb6",
   "metadata": {},
   "outputs": [
    {
     "name": "stdout",
     "output_type": "stream",
     "text": [
      "The mean of the matrix of random numbers drawn from N(2,3) is "
     ]
    },
    {
     "name": "stdout",
     "output_type": "stream",
     "text": [
      "[1.9822795780322677 2.028048235770412]\n",
      "The variance of the matrix of random numbers drawn from N(2,3) is [1.9822795780322677 2.028048235770412]\n",
      "The mean of the matrix of random numbers drawn from N(2,3) is [2.0440642675757643 2.010762226857643]\n",
      "The variance of the matrix of random numbers drawn from N(2,3) is [2.0440642675757643 2.010762226857643]\n"
     ]
    }
   ],
   "source": [
    "using Statistics, Distributions\n",
    "\n",
    "# Q2-1. use randn() to draw 1000 x 2 matrix from N(2, 3) \n",
    "rd_mat   = sqrt(3) * (randn(1000, 2)) .+ 2\n",
    "emp_mean = mean(rd_mat, dims = 1)\n",
    "emp_var  = var(rd_mat, dims = 1)\n",
    "println(\"The mean of the matrix of random numbers drawn from N(2,3) is \", emp_mean)\n",
    "println(\"The variance of the matrix of random numbers drawn from N(2,3) is \", emp_mean)\n",
    "\n",
    "\n",
    "# Q2-2. use rand() with specification on parameter, to draw 1000 x 2 matrix from N(2, 3) \n",
    "rd_mat = rand(Normal(2, sqrt(3)), 1000, 2)\n",
    "emp_mean = mean(rd_mat, dims = 1)\n",
    "emp_var  = var(rd_mat, dims = 1)\n",
    "println(\"The mean of the matrix of random numbers drawn from N(2,3) is \", emp_mean)\n",
    "println(\"The variance of the matrix of random numbers drawn from N(2,3) is \", emp_mean)"
   ]
  },
  {
   "cell_type": "markdown",
   "id": "87cf30eb",
   "metadata": {},
   "source": [
    "## Draw Regression Data: Cross-Sectional Model\n",
    "\n",
    "Suppose you write your own routine to do fancy estimation on cross-sectional and panel data models. You want to conduct a Monte Carlo analysis to see if the routine works as expected and the returned answer is correct. The first thing you have to do is to generate data with pre-specified parameter values. (So that you could apply your estimation routine to the data and see if the estimated parameter values match the pre-specified (*true*) values.) \n",
    "\n",
    "Let's start from the cross-sectional model. The model is:\n",
    "\\begin{aligned} \n",
    "  y_i & = \\alpha + \\beta' x_i + \\epsilon_i,\\qquad i=1,\\ldots,N,\\\\\n",
    "  \\epsilon_i & \\sim N(0, \\sigma^2).\n",
    "\\end{aligned}   \n",
    "\n",
    "There could be more than one $x_i$ variable in the model; let's denote the number of $x_i$ as $\\textrm{nofX}$. Write a function to generate data $\\{y_i, x_i\\}$.The function should allow users to choose values of $\\{\\alpha, \\beta, \\sigma^2, \\textrm{nofX}, N\\}$.\n",
    "  - Hint: The $x_i$s are assumed (in econometrics) to be fixed and exogenous and therefore the distribution from which they are generated is inconsequential. （前面那句看不懂意思沒關係，重要是下面這句：）You may assume that they are generated from normal distributions."
   ]
  },
  {
   "cell_type": "code",
   "execution_count": 8,
   "id": "81abdd97",
   "metadata": {},
   "outputs": [
    {
     "data": {
      "text/html": [
       "<div><div style = \"float: left;\"><span>100×4 DataFrame</span></div><div style = \"float: right;\"><span style = \"font-style: italic;\">75 rows omitted</span></div><div style = \"clear: both;\"></div></div><div class = \"data-frame\" style = \"overflow-x: scroll;\"><table class = \"data-frame\" style = \"margin-bottom: 6px;\"><thead><tr class = \"header\"><th class = \"rowNumber\" style = \"font-weight: bold; text-align: right;\">Row</th><th style = \"text-align: left;\">y</th><th style = \"text-align: left;\">x1</th><th style = \"text-align: left;\">x2</th><th style = \"text-align: left;\">x3</th></tr><tr class = \"subheader headerLastRow\"><th class = \"rowNumber\" style = \"font-weight: bold; text-align: right;\"></th><th title = \"Float64\" style = \"text-align: left;\">Float64</th><th title = \"Float64\" style = \"text-align: left;\">Float64</th><th title = \"Float64\" style = \"text-align: left;\">Float64</th><th title = \"Float64\" style = \"text-align: left;\">Float64</th></tr></thead><tbody><tr><td class = \"rowNumber\" style = \"font-weight: bold; text-align: right;\">1</td><td style = \"text-align: right;\">2024.74</td><td style = \"text-align: right;\">1.42381</td><td style = \"text-align: right;\">0.267952</td><td style = \"text-align: right;\">-0.305716</td></tr><tr><td class = \"rowNumber\" style = \"font-weight: bold; text-align: right;\">2</td><td style = \"text-align: right;\">2035.11</td><td style = \"text-align: right;\">-0.828669</td><td style = \"text-align: right;\">1.14325</td><td style = \"text-align: right;\">2.45634</td></tr><tr><td class = \"rowNumber\" style = \"font-weight: bold; text-align: right;\">3</td><td style = \"text-align: right;\">2023.3</td><td style = \"text-align: right;\">0.418032</td><td style = \"text-align: right;\">0.690235</td><td style = \"text-align: right;\">-0.779799</td></tr><tr><td class = \"rowNumber\" style = \"font-weight: bold; text-align: right;\">4</td><td style = \"text-align: right;\">2015.4</td><td style = \"text-align: right;\">-0.816985</td><td style = \"text-align: right;\">-0.261691</td><td style = \"text-align: right;\">-2.75503</td></tr><tr><td class = \"rowNumber\" style = \"font-weight: bold; text-align: right;\">5</td><td style = \"text-align: right;\">2022.03</td><td style = \"text-align: right;\">1.93545</td><td style = \"text-align: right;\">-0.538405</td><td style = \"text-align: right;\">-0.534774</td></tr><tr><td class = \"rowNumber\" style = \"font-weight: bold; text-align: right;\">6</td><td style = \"text-align: right;\">2020.1</td><td style = \"text-align: right;\">-1.91317</td><td style = \"text-align: right;\">0.941754</td><td style = \"text-align: right;\">-0.892158</td></tr><tr><td class = \"rowNumber\" style = \"font-weight: bold; text-align: right;\">7</td><td style = \"text-align: right;\">2020.18</td><td style = \"text-align: right;\">-1.29538</td><td style = \"text-align: right;\">0.0918382</td><td style = \"text-align: right;\">-1.98809</td></tr><tr><td class = \"rowNumber\" style = \"font-weight: bold; text-align: right;\">8</td><td style = \"text-align: right;\">2024.11</td><td style = \"text-align: right;\">0.0920258</td><td style = \"text-align: right;\">0.530096</td><td style = \"text-align: right;\">0.659561</td></tr><tr><td class = \"rowNumber\" style = \"font-weight: bold; text-align: right;\">9</td><td style = \"text-align: right;\">2018.11</td><td style = \"text-align: right;\">-0.419966</td><td style = \"text-align: right;\">-0.363922</td><td style = \"text-align: right;\">-1.08733</td></tr><tr><td class = \"rowNumber\" style = \"font-weight: bold; text-align: right;\">10</td><td style = \"text-align: right;\">2027.8</td><td style = \"text-align: right;\">0.0730229</td><td style = \"text-align: right;\">1.35439</td><td style = \"text-align: right;\">0.423374</td></tr><tr><td class = \"rowNumber\" style = \"font-weight: bold; text-align: right;\">11</td><td style = \"text-align: right;\">2021.45</td><td style = \"text-align: right;\">-1.20456</td><td style = \"text-align: right;\">-0.228083</td><td style = \"text-align: right;\">-0.575569</td></tr><tr><td class = \"rowNumber\" style = \"font-weight: bold; text-align: right;\">12</td><td style = \"text-align: right;\">2023.98</td><td style = \"text-align: right;\">0.507064</td><td style = \"text-align: right;\">-0.0783111</td><td style = \"text-align: right;\">-0.753127</td></tr><tr><td class = \"rowNumber\" style = \"font-weight: bold; text-align: right;\">13</td><td style = \"text-align: right;\">2021.99</td><td style = \"text-align: right;\">0.0311517</td><td style = \"text-align: right;\">-1.78631</td><td style = \"text-align: right;\">0.388199</td></tr><tr><td style = \"text-align: right;\">&vellip;</td><td style = \"text-align: right;\">&vellip;</td><td style = \"text-align: right;\">&vellip;</td><td style = \"text-align: right;\">&vellip;</td><td style = \"text-align: right;\">&vellip;</td></tr><tr><td class = \"rowNumber\" style = \"font-weight: bold; text-align: right;\">89</td><td style = \"text-align: right;\">2021.72</td><td style = \"text-align: right;\">0.314904</td><td style = \"text-align: right;\">0.661737</td><td style = \"text-align: right;\">-1.0042</td></tr><tr><td class = \"rowNumber\" style = \"font-weight: bold; text-align: right;\">90</td><td style = \"text-align: right;\">2023.23</td><td style = \"text-align: right;\">-0.189836</td><td style = \"text-align: right;\">-0.918104</td><td style = \"text-align: right;\">-0.292341</td></tr><tr><td class = \"rowNumber\" style = \"font-weight: bold; text-align: right;\">91</td><td style = \"text-align: right;\">2023.03</td><td style = \"text-align: right;\">-1.46649</td><td style = \"text-align: right;\">-2.10354</td><td style = \"text-align: right;\">1.86831</td></tr><tr><td class = \"rowNumber\" style = \"font-weight: bold; text-align: right;\">92</td><td style = \"text-align: right;\">2023.57</td><td style = \"text-align: right;\">0.0322625</td><td style = \"text-align: right;\">0.338355</td><td style = \"text-align: right;\">-0.220839</td></tr><tr><td class = \"rowNumber\" style = \"font-weight: bold; text-align: right;\">93</td><td style = \"text-align: right;\">2026.47</td><td style = \"text-align: right;\">0.0131007</td><td style = \"text-align: right;\">0.545676</td><td style = \"text-align: right;\">-0.565413</td></tr><tr><td class = \"rowNumber\" style = \"font-weight: bold; text-align: right;\">94</td><td style = \"text-align: right;\">2021.6</td><td style = \"text-align: right;\">-1.6748</td><td style = \"text-align: right;\">0.847211</td><td style = \"text-align: right;\">-0.942634</td></tr><tr><td class = \"rowNumber\" style = \"font-weight: bold; text-align: right;\">95</td><td style = \"text-align: right;\">2030.34</td><td style = \"text-align: right;\">1.78065</td><td style = \"text-align: right;\">1.21612</td><td style = \"text-align: right;\">-0.367268</td></tr><tr><td class = \"rowNumber\" style = \"font-weight: bold; text-align: right;\">96</td><td style = \"text-align: right;\">2021.94</td><td style = \"text-align: right;\">-0.740239</td><td style = \"text-align: right;\">0.0785823</td><td style = \"text-align: right;\">-0.143811</td></tr><tr><td class = \"rowNumber\" style = \"font-weight: bold; text-align: right;\">97</td><td style = \"text-align: right;\">2027.05</td><td style = \"text-align: right;\">-0.698947</td><td style = \"text-align: right;\">-0.579061</td><td style = \"text-align: right;\">1.85595</td></tr><tr><td class = \"rowNumber\" style = \"font-weight: bold; text-align: right;\">98</td><td style = \"text-align: right;\">2025.77</td><td style = \"text-align: right;\">0.0767222</td><td style = \"text-align: right;\">-0.544826</td><td style = \"text-align: right;\">-0.436739</td></tr><tr><td class = \"rowNumber\" style = \"font-weight: bold; text-align: right;\">99</td><td style = \"text-align: right;\">2030.48</td><td style = \"text-align: right;\">0.475283</td><td style = \"text-align: right;\">1.89014</td><td style = \"text-align: right;\">1.4666</td></tr><tr><td class = \"rowNumber\" style = \"font-weight: bold; text-align: right;\">100</td><td style = \"text-align: right;\">2026.24</td><td style = \"text-align: right;\">-0.417554</td><td style = \"text-align: right;\">0.51305</td><td style = \"text-align: right;\">0.879396</td></tr></tbody></table></div>"
      ],
      "text/latex": [
       "\\begin{tabular}{r|cccc}\n",
       "\t& y & x1 & x2 & x3\\\\\n",
       "\t\\hline\n",
       "\t& Float64 & Float64 & Float64 & Float64\\\\\n",
       "\t\\hline\n",
       "\t1 & 2024.74 & 1.42381 & 0.267952 & -0.305716 \\\\\n",
       "\t2 & 2035.11 & -0.828669 & 1.14325 & 2.45634 \\\\\n",
       "\t3 & 2023.3 & 0.418032 & 0.690235 & -0.779799 \\\\\n",
       "\t4 & 2015.4 & -0.816985 & -0.261691 & -2.75503 \\\\\n",
       "\t5 & 2022.03 & 1.93545 & -0.538405 & -0.534774 \\\\\n",
       "\t6 & 2020.1 & -1.91317 & 0.941754 & -0.892158 \\\\\n",
       "\t7 & 2020.18 & -1.29538 & 0.0918382 & -1.98809 \\\\\n",
       "\t8 & 2024.11 & 0.0920258 & 0.530096 & 0.659561 \\\\\n",
       "\t9 & 2018.11 & -0.419966 & -0.363922 & -1.08733 \\\\\n",
       "\t10 & 2027.8 & 0.0730229 & 1.35439 & 0.423374 \\\\\n",
       "\t11 & 2021.45 & -1.20456 & -0.228083 & -0.575569 \\\\\n",
       "\t12 & 2023.98 & 0.507064 & -0.0783111 & -0.753127 \\\\\n",
       "\t13 & 2021.99 & 0.0311517 & -1.78631 & 0.388199 \\\\\n",
       "\t14 & 2022.87 & 0.271974 & -0.723663 & 0.594793 \\\\\n",
       "\t15 & 2023.89 & 1.57356 & -0.692451 & 0.386354 \\\\\n",
       "\t16 & 2022.39 & -0.643378 & -0.458486 & -0.622938 \\\\\n",
       "\t17 & 2019.11 & -0.761081 & -0.353375 & -0.191914 \\\\\n",
       "\t18 & 2020.04 & -0.308032 & -1.68639 & 0.6153 \\\\\n",
       "\t19 & 2025.71 & -1.13615 & 1.80754 & 0.374292 \\\\\n",
       "\t20 & 2021.91 & -0.753614 & -0.662017 & 0.0371036 \\\\\n",
       "\t21 & 2024.0 & 0.633838 & 0.325235 & -0.857443 \\\\\n",
       "\t22 & 2022.71 & 1.04374 & -1.05596 & 0.286905 \\\\\n",
       "\t23 & 2025.84 & 0.00230395 & 1.83306 & -0.720624 \\\\\n",
       "\t24 & 2016.11 & -0.160255 & -1.66684 & -1.6104 \\\\\n",
       "\t$\\dots$ & $\\dots$ & $\\dots$ & $\\dots$ & $\\dots$ \\\\\n",
       "\\end{tabular}\n"
      ],
      "text/plain": [
       "\u001b[1m100×4 DataFrame\u001b[0m\n",
       "\u001b[1m Row \u001b[0m│\u001b[1m y       \u001b[0m\u001b[1m x1         \u001b[0m\u001b[1m x2         \u001b[0m\u001b[1m x3        \u001b[0m\n",
       "     │\u001b[90m Float64 \u001b[0m\u001b[90m Float64    \u001b[0m\u001b[90m Float64    \u001b[0m\u001b[90m Float64   \u001b[0m\n",
       "─────┼────────────────────────────────────────────\n",
       "   1 │ 2024.74   1.42381     0.267952   -0.305716\n",
       "   2 │ 2035.11  -0.828669    1.14325     2.45634\n",
       "   3 │ 2023.3    0.418032    0.690235   -0.779799\n",
       "   4 │ 2015.4   -0.816985   -0.261691   -2.75503\n",
       "   5 │ 2022.03   1.93545    -0.538405   -0.534774\n",
       "   6 │ 2020.1   -1.91317     0.941754   -0.892158\n",
       "   7 │ 2020.18  -1.29538     0.0918382  -1.98809\n",
       "   8 │ 2024.11   0.0920258   0.530096    0.659561\n",
       "  ⋮  │    ⋮         ⋮           ⋮           ⋮\n",
       "  94 │ 2021.6   -1.6748      0.847211   -0.942634\n",
       "  95 │ 2030.34   1.78065     1.21612    -0.367268\n",
       "  96 │ 2021.94  -0.740239    0.0785823  -0.143811\n",
       "  97 │ 2027.05  -0.698947   -0.579061    1.85595\n",
       "  98 │ 2025.77   0.0767222  -0.544826   -0.436739\n",
       "  99 │ 2030.48   0.475283    1.89014     1.4666\n",
       " 100 │ 2026.24  -0.417554    0.51305     0.879396\n",
       "\u001b[36m                                   85 rows omitted\u001b[0m"
      ]
     },
     "metadata": {},
     "output_type": "display_data"
    }
   ],
   "source": [
    "using Distributions, Random, DataFrames\n",
    "\n",
    "# Q3. self-defined function for generating X's and corresponding Y\n",
    "function gen_crossSectional_data(alpha::Float64, beta::Vector{Float64}, sigma_2::Float64, nofX::Int, N::Int)\n",
    "\n",
    "    # draw X's from normal distribtuion\n",
    "    x = rand(Normal(), N, nofX)\n",
    "    epsilon = rand(Normal(0, sqrt(sigma_2)), N)\n",
    "    \n",
    "    # calculate vector Y\n",
    "    y = alpha .+ (x*beta) .+ epsilon\n",
    "\n",
    "    # convert Y & X to dataframe\n",
    "    df_y = DataFrame(y = y)\n",
    "    df_x = DataFrame(x, :auto)\n",
    "    df = hcat(df_y, df_x, makeunique = true)\n",
    "\n",
    "    # return dataframe\n",
    "    return df\n",
    "\n",
    "end\n",
    "\n",
    "# testing: choose arbitrary parameters and see the result\n",
    "alpha = 2024.0\n",
    "beta = [1.0, 2.0, 3.0]  # match the #(element) to nofX\n",
    "sigma_2 = 4.0\n",
    "nofX = 3\n",
    "N = 100\n",
    "\n",
    "output = gen_crossSectional_data(alpha, beta, sigma_2, nofX, N)"
   ]
  },
  {
   "attachments": {
    "image.png": {
     "image/png": "[encoded data removed]"
    }
   },
   "cell_type": "markdown",
   "id": "32631c5c",
   "metadata": {},
   "source": [
    "## Draw Regression Data: Panel Model\n",
    "\n",
    "Suppose you also want to generate panel data to test your routine. The model is\n",
    "\\begin{aligned}\n",
    "    y_{it} & = \\alpha_i + \\beta x_{it} + \\epsilon_{it},\\qquad i=1,\\ldots,N,\\ t=1,\\ldots,T,\\\\\n",
    "   \\epsilon_{it} & \\sim N(0, \\sigma^2).\n",
    "\\end{aligned}   \n",
    "\n",
    "Here, $i$ is the individual index and $t$ is the time index. For instance, $w_{13}$ means the value of $w$ for the 1st individual at 3rd time period. Assume the above model is the random-effect (RE) panel data model where $\\alpha_i \\sim N(0,\\sigma_a^2)$ is a random variable which is independently distributed from $x_{it}$. Write a function to generate data of $\\{y_{it}, x_{it}\\}$ with the options of $\\{\\beta, \\sigma^2, \\sigma_a^2, \\textrm{nofX}, N, T\\}$. \n",
    "\n",
    "  - Hint: Draw $\\alpha_i$ and expand it (`repeat()`) to fill the time periods. Generate $x_{it}$ and $\\epsilon_{it}$. Then combine these elements according to the equation to create $y_{it}$.\n",
    "  - Hint: You don't really need to understand what is RE model to generate the data. Just follow the notation and it should be ok.\n",
    "  - Hint: `repeat()` would be useful here.\n",
    "  - Hint: The structure of the dataset should look like the following. Note that $\\alpha_i$ is constant within a given $i$ but would change acorss different $i$'s. \n",
    "\n",
    "\n",
    "![image.png](attachment:image.png)\n",
    "\n",
    "\n"
   ]
  },
  {
   "cell_type": "code",
   "execution_count": 9,
   "id": "a70c12a6",
   "metadata": {},
   "outputs": [
    {
     "data": {
      "text/html": [
       "<div><div style = \"float: left;\"><span>1000×6 DataFrame</span></div><div style = \"float: right;\"><span style = \"font-style: italic;\">975 rows omitted</span></div><div style = \"clear: both;\"></div></div><div class = \"data-frame\" style = \"overflow-x: scroll;\"><table class = \"data-frame\" style = \"margin-bottom: 6px;\"><thead><tr class = \"header\"><th class = \"rowNumber\" style = \"font-weight: bold; text-align: right;\">Row</th><th style = \"text-align: left;\">i</th><th style = \"text-align: left;\">t</th><th style = \"text-align: left;\">y_it</th><th style = \"text-align: left;\">alpha_i</th><th style = \"text-align: left;\">x_1,it</th><th style = \"text-align: left;\">x_2,it</th></tr><tr class = \"subheader headerLastRow\"><th class = \"rowNumber\" style = \"font-weight: bold; text-align: right;\"></th><th title = \"Int64\" style = \"text-align: left;\">Int64</th><th title = \"Int64\" style = \"text-align: left;\">Int64</th><th title = \"Float64\" style = \"text-align: left;\">Float64</th><th title = \"Float64\" style = \"text-align: left;\">Float64</th><th title = \"Float64\" style = \"text-align: left;\">Float64</th><th title = \"Float64\" style = \"text-align: left;\">Float64</th></tr></thead><tbody><tr><td class = \"rowNumber\" style = \"font-weight: bold; text-align: right;\">1</td><td style = \"text-align: right;\">1</td><td style = \"text-align: right;\">1</td><td style = \"text-align: right;\">-0.0155518</td><td style = \"text-align: right;\">-1.00592</td><td style = \"text-align: right;\">0.273906</td><td style = \"text-align: right;\">0.491514</td></tr><tr><td class = \"rowNumber\" style = \"font-weight: bold; text-align: right;\">2</td><td style = \"text-align: right;\">1</td><td style = \"text-align: right;\">2</td><td style = \"text-align: right;\">-3.93562</td><td style = \"text-align: right;\">-1.00592</td><td style = \"text-align: right;\">0.092158</td><td style = \"text-align: right;\">-1.04177</td></tr><tr><td class = \"rowNumber\" style = \"font-weight: bold; text-align: right;\">3</td><td style = \"text-align: right;\">1</td><td style = \"text-align: right;\">3</td><td style = \"text-align: right;\">0.174291</td><td style = \"text-align: right;\">-1.00592</td><td style = \"text-align: right;\">0.513711</td><td style = \"text-align: right;\">-0.409648</td></tr><tr><td class = \"rowNumber\" style = \"font-weight: bold; text-align: right;\">4</td><td style = \"text-align: right;\">1</td><td style = \"text-align: right;\">4</td><td style = \"text-align: right;\">-0.285258</td><td style = \"text-align: right;\">-1.00592</td><td style = \"text-align: right;\">0.407339</td><td style = \"text-align: right;\">1.12529</td></tr><tr><td class = \"rowNumber\" style = \"font-weight: bold; text-align: right;\">5</td><td style = \"text-align: right;\">1</td><td style = \"text-align: right;\">5</td><td style = \"text-align: right;\">-1.83735</td><td style = \"text-align: right;\">-1.00592</td><td style = \"text-align: right;\">-0.852427</td><td style = \"text-align: right;\">0.0260732</td></tr><tr><td class = \"rowNumber\" style = \"font-weight: bold; text-align: right;\">6</td><td style = \"text-align: right;\">1</td><td style = \"text-align: right;\">6</td><td style = \"text-align: right;\">1.90599</td><td style = \"text-align: right;\">-1.00592</td><td style = \"text-align: right;\">1.34296</td><td style = \"text-align: right;\">-1.40408</td></tr><tr><td class = \"rowNumber\" style = \"font-weight: bold; text-align: right;\">7</td><td style = \"text-align: right;\">1</td><td style = \"text-align: right;\">7</td><td style = \"text-align: right;\">-2.81074</td><td style = \"text-align: right;\">-1.00592</td><td style = \"text-align: right;\">-0.346385</td><td style = \"text-align: right;\">-0.220924</td></tr><tr><td class = \"rowNumber\" style = \"font-weight: bold; text-align: right;\">8</td><td style = \"text-align: right;\">1</td><td style = \"text-align: right;\">8</td><td style = \"text-align: right;\">0.963267</td><td style = \"text-align: right;\">-1.00592</td><td style = \"text-align: right;\">-0.016452</td><td style = \"text-align: right;\">0.52705</td></tr><tr><td class = \"rowNumber\" style = \"font-weight: bold; text-align: right;\">9</td><td style = \"text-align: right;\">1</td><td style = \"text-align: right;\">9</td><td style = \"text-align: right;\">-2.422</td><td style = \"text-align: right;\">-1.00592</td><td style = \"text-align: right;\">0.68456</td><td style = \"text-align: right;\">-0.862421</td></tr><tr><td class = \"rowNumber\" style = \"font-weight: bold; text-align: right;\">10</td><td style = \"text-align: right;\">1</td><td style = \"text-align: right;\">10</td><td style = \"text-align: right;\">-1.79716</td><td style = \"text-align: right;\">-1.00592</td><td style = \"text-align: right;\">0.00934669</td><td style = \"text-align: right;\">-0.07407</td></tr><tr><td class = \"rowNumber\" style = \"font-weight: bold; text-align: right;\">11</td><td style = \"text-align: right;\">2</td><td style = \"text-align: right;\">1</td><td style = \"text-align: right;\">-1.50277</td><td style = \"text-align: right;\">-0.203986</td><td style = \"text-align: right;\">-0.91109</td><td style = \"text-align: right;\">-0.964939</td></tr><tr><td class = \"rowNumber\" style = \"font-weight: bold; text-align: right;\">12</td><td style = \"text-align: right;\">2</td><td style = \"text-align: right;\">2</td><td style = \"text-align: right;\">0.514826</td><td style = \"text-align: right;\">-0.203986</td><td style = \"text-align: right;\">0.431122</td><td style = \"text-align: right;\">-0.375655</td></tr><tr><td class = \"rowNumber\" style = \"font-weight: bold; text-align: right;\">13</td><td style = \"text-align: right;\">2</td><td style = \"text-align: right;\">3</td><td style = \"text-align: right;\">0.827979</td><td style = \"text-align: right;\">-0.203986</td><td style = \"text-align: right;\">-1.57322</td><td style = \"text-align: right;\">-0.829663</td></tr><tr><td style = \"text-align: right;\">&vellip;</td><td style = \"text-align: right;\">&vellip;</td><td style = \"text-align: right;\">&vellip;</td><td style = \"text-align: right;\">&vellip;</td><td style = \"text-align: right;\">&vellip;</td><td style = \"text-align: right;\">&vellip;</td><td style = \"text-align: right;\">&vellip;</td></tr><tr><td class = \"rowNumber\" style = \"font-weight: bold; text-align: right;\">989</td><td style = \"text-align: right;\">99</td><td style = \"text-align: right;\">9</td><td style = \"text-align: right;\">2.08713</td><td style = \"text-align: right;\">0.739169</td><td style = \"text-align: right;\">0.824618</td><td style = \"text-align: right;\">-0.254484</td></tr><tr><td class = \"rowNumber\" style = \"font-weight: bold; text-align: right;\">990</td><td style = \"text-align: right;\">99</td><td style = \"text-align: right;\">10</td><td style = \"text-align: right;\">2.33988</td><td style = \"text-align: right;\">0.739169</td><td style = \"text-align: right;\">-0.690201</td><td style = \"text-align: right;\">-0.0113738</td></tr><tr><td class = \"rowNumber\" style = \"font-weight: bold; text-align: right;\">991</td><td style = \"text-align: right;\">100</td><td style = \"text-align: right;\">1</td><td style = \"text-align: right;\">-1.20419</td><td style = \"text-align: right;\">-0.543478</td><td style = \"text-align: right;\">0.0413068</td><td style = \"text-align: right;\">-1.30037</td></tr><tr><td class = \"rowNumber\" style = \"font-weight: bold; text-align: right;\">992</td><td style = \"text-align: right;\">100</td><td style = \"text-align: right;\">2</td><td style = \"text-align: right;\">0.190705</td><td style = \"text-align: right;\">-0.543478</td><td style = \"text-align: right;\">2.2204</td><td style = \"text-align: right;\">0.179656</td></tr><tr><td class = \"rowNumber\" style = \"font-weight: bold; text-align: right;\">993</td><td style = \"text-align: right;\">100</td><td style = \"text-align: right;\">3</td><td style = \"text-align: right;\">0.473983</td><td style = \"text-align: right;\">-0.543478</td><td style = \"text-align: right;\">-0.856424</td><td style = \"text-align: right;\">-0.157909</td></tr><tr><td class = \"rowNumber\" style = \"font-weight: bold; text-align: right;\">994</td><td style = \"text-align: right;\">100</td><td style = \"text-align: right;\">4</td><td style = \"text-align: right;\">-2.34582</td><td style = \"text-align: right;\">-0.543478</td><td style = \"text-align: right;\">1.3148</td><td style = \"text-align: right;\">-0.128292</td></tr><tr><td class = \"rowNumber\" style = \"font-weight: bold; text-align: right;\">995</td><td style = \"text-align: right;\">100</td><td style = \"text-align: right;\">5</td><td style = \"text-align: right;\">0.000323229</td><td style = \"text-align: right;\">-0.543478</td><td style = \"text-align: right;\">0.0348296</td><td style = \"text-align: right;\">-1.27449</td></tr><tr><td class = \"rowNumber\" style = \"font-weight: bold; text-align: right;\">996</td><td style = \"text-align: right;\">100</td><td style = \"text-align: right;\">6</td><td style = \"text-align: right;\">-0.776839</td><td style = \"text-align: right;\">-0.543478</td><td style = \"text-align: right;\">0.0565272</td><td style = \"text-align: right;\">0.10302</td></tr><tr><td class = \"rowNumber\" style = \"font-weight: bold; text-align: right;\">997</td><td style = \"text-align: right;\">100</td><td style = \"text-align: right;\">7</td><td style = \"text-align: right;\">-0.775564</td><td style = \"text-align: right;\">-0.543478</td><td style = \"text-align: right;\">-0.998328</td><td style = \"text-align: right;\">0.611761</td></tr><tr><td class = \"rowNumber\" style = \"font-weight: bold; text-align: right;\">998</td><td style = \"text-align: right;\">100</td><td style = \"text-align: right;\">8</td><td style = \"text-align: right;\">-0.323445</td><td style = \"text-align: right;\">-0.543478</td><td style = \"text-align: right;\">0.988876</td><td style = \"text-align: right;\">-0.589524</td></tr><tr><td class = \"rowNumber\" style = \"font-weight: bold; text-align: right;\">999</td><td style = \"text-align: right;\">100</td><td style = \"text-align: right;\">9</td><td style = \"text-align: right;\">-0.370265</td><td style = \"text-align: right;\">-0.543478</td><td style = \"text-align: right;\">0.415418</td><td style = \"text-align: right;\">-1.01101</td></tr><tr><td class = \"rowNumber\" style = \"font-weight: bold; text-align: right;\">1000</td><td style = \"text-align: right;\">100</td><td style = \"text-align: right;\">10</td><td style = \"text-align: right;\">-1.38789</td><td style = \"text-align: right;\">-0.543478</td><td style = \"text-align: right;\">-1.41074</td><td style = \"text-align: right;\">0.210664</td></tr></tbody></table></div>"
      ],
      "text/latex": [
       "\\begin{tabular}{r|cccccc}\n",
       "\t& i & t & y\\_it & alpha\\_i & x\\_1,it & x\\_2,it\\\\\n",
       "\t\\hline\n",
       "\t& Int64 & Int64 & Float64 & Float64 & Float64 & Float64\\\\\n",
       "\t\\hline\n",
       "\t1 & 1 & 1 & -0.0155518 & -1.00592 & 0.273906 & 0.491514 \\\\\n",
       "\t2 & 1 & 2 & -3.93562 & -1.00592 & 0.092158 & -1.04177 \\\\\n",
       "\t3 & 1 & 3 & 0.174291 & -1.00592 & 0.513711 & -0.409648 \\\\\n",
       "\t4 & 1 & 4 & -0.285258 & -1.00592 & 0.407339 & 1.12529 \\\\\n",
       "\t5 & 1 & 5 & -1.83735 & -1.00592 & -0.852427 & 0.0260732 \\\\\n",
       "\t6 & 1 & 6 & 1.90599 & -1.00592 & 1.34296 & -1.40408 \\\\\n",
       "\t7 & 1 & 7 & -2.81074 & -1.00592 & -0.346385 & -0.220924 \\\\\n",
       "\t8 & 1 & 8 & 0.963267 & -1.00592 & -0.016452 & 0.52705 \\\\\n",
       "\t9 & 1 & 9 & -2.422 & -1.00592 & 0.68456 & -0.862421 \\\\\n",
       "\t10 & 1 & 10 & -1.79716 & -1.00592 & 0.00934669 & -0.07407 \\\\\n",
       "\t11 & 2 & 1 & -1.50277 & -0.203986 & -0.91109 & -0.964939 \\\\\n",
       "\t12 & 2 & 2 & 0.514826 & -0.203986 & 0.431122 & -0.375655 \\\\\n",
       "\t13 & 2 & 3 & 0.827979 & -0.203986 & -1.57322 & -0.829663 \\\\\n",
       "\t14 & 2 & 4 & -0.380525 & -0.203986 & 0.0329445 & 0.647546 \\\\\n",
       "\t15 & 2 & 5 & 0.271888 & -0.203986 & -0.376708 & 1.26261 \\\\\n",
       "\t16 & 2 & 6 & -0.406855 & -0.203986 & -0.0222081 & -1.23171 \\\\\n",
       "\t17 & 2 & 7 & -0.539439 & -0.203986 & 0.219138 & 0.435365 \\\\\n",
       "\t18 & 2 & 8 & -0.551805 & -0.203986 & -0.557947 & -1.21116 \\\\\n",
       "\t19 & 2 & 9 & 1.57323 & -0.203986 & 0.612424 & 0.696806 \\\\\n",
       "\t20 & 2 & 10 & -0.0721217 & -0.203986 & 1.75354 & 0.95234 \\\\\n",
       "\t21 & 3 & 1 & 1.68221 & 0.416411 & -2.24104 & 0.362976 \\\\\n",
       "\t22 & 3 & 2 & -0.173363 & 0.416411 & 1.24595 & 1.75272 \\\\\n",
       "\t23 & 3 & 3 & 0.63952 & 0.416411 & 0.420747 & 0.219964 \\\\\n",
       "\t24 & 3 & 4 & 1.5663 & 0.416411 & -1.54245 & 0.164362 \\\\\n",
       "\t$\\dots$ & $\\dots$ & $\\dots$ & $\\dots$ & $\\dots$ & $\\dots$ & $\\dots$ \\\\\n",
       "\\end{tabular}\n"
      ],
      "text/plain": [
       "\u001b[1m1000×6 DataFrame\u001b[0m\n",
       "\u001b[1m  Row \u001b[0m│\u001b[1m i     \u001b[0m\u001b[1m t     \u001b[0m\u001b[1m y_it         \u001b[0m\u001b[1m alpha_i   \u001b[0m\u001b[1m x_1,it      \u001b[0m\u001b[1m x_2,it     \u001b[0m\n",
       "      │\u001b[90m Int64 \u001b[0m\u001b[90m Int64 \u001b[0m\u001b[90m Float64      \u001b[0m\u001b[90m Float64   \u001b[0m\u001b[90m Float64     \u001b[0m\u001b[90m Float64    \u001b[0m\n",
       "──────┼────────────────────────────────────────────────────────────────\n",
       "    1 │     1      1  -0.0155518    -1.00592    0.273906     0.491514\n",
       "    2 │     1      2  -3.93562      -1.00592    0.092158    -1.04177\n",
       "    3 │     1      3   0.174291     -1.00592    0.513711    -0.409648\n",
       "    4 │     1      4  -0.285258     -1.00592    0.407339     1.12529\n",
       "    5 │     1      5  -1.83735      -1.00592   -0.852427     0.0260732\n",
       "    6 │     1      6   1.90599      -1.00592    1.34296     -1.40408\n",
       "    7 │     1      7  -2.81074      -1.00592   -0.346385    -0.220924\n",
       "    8 │     1      8   0.963267     -1.00592   -0.016452     0.52705\n",
       "  ⋮   │   ⋮      ⋮         ⋮            ⋮           ⋮           ⋮\n",
       "  994 │   100      4  -2.34582      -0.543478   1.3148      -0.128292\n",
       "  995 │   100      5   0.000323229  -0.543478   0.0348296   -1.27449\n",
       "  996 │   100      6  -0.776839     -0.543478   0.0565272    0.10302\n",
       "  997 │   100      7  -0.775564     -0.543478  -0.998328     0.611761\n",
       "  998 │   100      8  -0.323445     -0.543478   0.988876    -0.589524\n",
       "  999 │   100      9  -0.370265     -0.543478   0.415418    -1.01101\n",
       " 1000 │   100     10  -1.38789      -0.543478  -1.41074      0.210664\n",
       "\u001b[36m                                                       985 rows omitted\u001b[0m"
      ]
     },
     "metadata": {},
     "output_type": "display_data"
    }
   ],
   "source": [
    "using Distributions, Random, DataFrames\n",
    "\n",
    "# Q4. self-defined function for generating X's and corresponding Y in panel data\n",
    "function gen_panel_data(betas::Vector{Float64}, sigma_2::Float64, sigma_2_alpha::Float64, nof_X::Int, N::Int, T::Int)\n",
    "    \n",
    "    # draw α_i from N(0, σ^2_α), and expand to all time period (random effect assumption)\n",
    "    alpha = rand(Normal(0, sqrt(sigma_2_alpha)), N)\n",
    "    \n",
    "    # draw X's from normal distribution\n",
    "    x = rand(Normal(), N, T, nof_X)\n",
    "    \n",
    "    # draw ε_it from N(0, σ²)\n",
    "    epsilon = rand(Normal(0, sqrt(sigma_2)), N, T)\n",
    "    \n",
    "    # create DataFrame\n",
    "    df = DataFrame()\n",
    "    df.i = repeat(1:N, inner = T)\n",
    "    df.t = repeat(1:T, outer = N)\n",
    "\n",
    "    # calculate y_it with multiple Xs\n",
    "    y = zeros(N * T)\n",
    "    for n in 1:N\n",
    "        for t in 1:T\n",
    "            y[(n-1) * T + t] = alpha[n] + sum(x[n, t, :] .* betas) + epsilon[n, t]\n",
    "        end\n",
    "    end\n",
    "    df.y_it = y\n",
    "\n",
    "    # assign alpha_i\n",
    "    df.alpha_i = repeat(alpha, inner = T)\n",
    "\n",
    "    # reshape x to a long format and insert into the DataFrame\n",
    "    for j in 1:nof_X\n",
    "        x_variable = reshape(x[:, :, j], N * T)\n",
    "        df[!, Symbol(\"x_\", j, \",it\")] = x_variable\n",
    "    end\n",
    "    \n",
    "    return df\n",
    "    \n",
    "end\n",
    "\n",
    "# testing: choose arbitrary parameters and see the result\n",
    "betas = [0.5, -0.2]\n",
    "sigma_2 = 1.0\n",
    "sigma_2_alpha = 0.5\n",
    "nof_X = 2\n",
    "N = 100\n",
    "T = 10\n",
    "\n",
    "df = gen_panel_data(betas, sigma_2, sigma_2_alpha, nof_X, N, T)\n"
   ]
  }
 ],
 "metadata": {
  "@webio": {
   "lastCommId": null,
   "lastKernelId": null
  },
  "kernelspec": {
   "display_name": "Julia 1.10.1",
   "language": "julia",
   "name": "julia-1.10"
  },
  "language_info": {
   "file_extension": ".jl",
   "mimetype": "application/julia",
   "name": "julia",
   "version": "1.10.1"
  },
  "toc": {
   "base_numbering": 1,
   "nav_menu": {},
   "number_sections": true,
   "sideBar": true,
   "skip_h1_title": true,
   "title_cell": "Table of Contents",
   "title_sidebar": "Contents",
   "toc_cell": false,
   "toc_position": {},
   "toc_section_display": true,
   "toc_window_display": true
  }
 },
 "nbformat": 4,
 "nbformat_minor": 5
}
