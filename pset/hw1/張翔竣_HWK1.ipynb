{
 "cells": [
  {
   "cell_type": "markdown",
   "id": "fbc4b55c",
   "metadata": {},
   "source": [
    "# 作業 1 （荒野求生）\n",
    "\n",
    "\n",
    "- **前三題一定要做，以前三題的表現給分。後面幾題不計分但也一定要寫；寫錯、沒寫完、寫不出來沒關係，但要有嘗試的痕跡或證據（例如，幾行相關的code)。**\n",
    "- 請於下星期一（2/27）下午 2:00 前上傳 NTU Cool 繳交。超過了時間系統無法收件。\n",
    "- 繳交時，請將檔案名稱改爲「姓名_HWK1.ipynb」;例如「王小明_HWK1.ipynb」。\n",
    "- 題目來源：111年學測數A及數B。\n",
    "- 此作業的目的不在考數學，而在練習使用 Julia；歡迎上網找相關題目的解答。重點在過程不在答案。\n",
    "  - [數A影音解答](https://www.youtube.com/watch?v=sWfWqDtsa5o&ab_channel=CMmath)\n",
    "  - [數B影音解答](https://www.youtube.com/watch?v=j3jigIF2QO8&ab_channel=CMmath)\n",
    "- 所有數字必須透過程式算出來，不能心算等人為介入。例如：\n",
    "  - $n(n-1)/2 > 200$, 不能用心算得出 $n$ 最小為15。\n",
    "  - $-3.1$ 到 $8.9$ 之間有幾個整數，不能扳手指算。\n",
    "- 假設你的解答過程及答案將作爲補習班教學之用。請適當註解程式，讓解答容易被學生了解。\n",
    "\n",
    "\n",
    "\n"
   ]
  },
  {
   "cell_type": "markdown",
   "id": "4e7c8d13",
   "metadata": {},
   "source": [
    "## (111學測數B單選5) 設矩陣 $A = \\begin{bmatrix} 1 & 1 \\\\ 1 & -1\\end{bmatrix}$，若 $A^7 - 3A = \\begin{bmatrix} a & b \\\\ c & d\\end{bmatrix}$，則 $a + b + c + d$ 之值為何？\n",
    "\n",
    "Hint 1: 算出 $A^7 - 3A$ 的矩陣，然後把裏面的 elements 相加。想想看，如何把一個矩陣的 elements 加起來。"
   ]
  },
  {
   "cell_type": "code",
   "execution_count": 3,
   "id": "ec1cf829",
   "metadata": {},
   "outputs": [
    {
     "name": "stdout",
     "output_type": "stream",
     "text": [
      "10\n",
      "10"
     ]
    }
   ],
   "source": [
    "# compute A^7 - 3A as B\n",
    "A = [1 1;\n",
    "     1 -1]\n",
    "B = A^7 - 3*A\n",
    "\n",
    "# use function to obtain the sum of all elements in the matrix B\n",
    "println(sum(B)) "
   ]
  },
  {
   "cell_type": "markdown",
   "id": "d153ef86",
   "metadata": {},
   "source": [
    "## (111學測數A單選5） 已知某地區有 30%的人口感染某傳染病。針對該傳染病的快篩試劑檢驗，有陽性或陰性兩結果。已知該試劑將染病者判為陽性的機率為 80%，將未染病者判為陰性的機率則為60%。為降低該試劑將染病者誤判為陰性的情況，專家建議連續採檢三次。若單次採檢判為陰性者中，染病者的機率為 P；而連續採檢三次皆判為陰性者中，染病者的機率為 P '。試問 P/P' 為多少？"
   ]
  },
  {
   "cell_type": "code",
   "execution_count": 182,
   "id": "ce6b1f30",
   "metadata": {},
   "outputs": [
    {
     "name": "stdout",
     "output_type": "stream",
     "text": [
      "7.999999999999998"
     ]
    }
   ],
   "source": [
    "# compute p and p'\n",
    "p = 0.3*0.2 / (0.3*0.2 + 0.7*0.6)\n",
    "p_plum = 0.3*(0.2)^3 / (0.3*(0.2)^3 + 0.7*(0.6)^3)\n",
    "\n",
    "## compute the ratio\n",
    "print(p/p_plum)"
   ]
  },
  {
   "cell_type": "markdown",
   "id": "a8011ed3",
   "metadata": {},
   "source": [
    "## (111學測數A單選1） 某冰淇淋店最少需準備 n 桶不同口味的冰淇淋，才能滿足廣告所稱「任選兩球不同口味冰淇淋的組合數超過 100 種」。試問來店顧客從 n 桶中任選兩球（可為同一口味）共有幾種方法？請提供至少三種解法：\n",
    "- ### 不使用任何 package (hint: 可以用 `while` loop),\n",
    "\n",
    "- ### 使用 `Combinatorics` package (hint: 可參考[這個連結](https://juliamath.github.io/Combinatorics.jl/dev/api/#Combinatorics.combinations-Tuple{Any,%20Integer}); 可以用 `collect()` 函數）,\n",
    "- ### 使用 `Roots` package （hint: 定義一個函數，然後用 `find_zero()` 求解）。\n"
   ]
  },
  {
   "cell_type": "code",
   "execution_count": 86,
   "id": "c18fab62",
   "metadata": {},
   "outputs": [
    {
     "name": "stdout",
     "output_type": "stream",
     "text": [
      "120"
     ]
    }
   ],
   "source": [
    "# Solution 1: no package\n",
    "## first define a function to compute the number of combination of different flavor given n\n",
    "function diff_comb(n)\n",
    "    sum = 0\n",
    "    for i in 1:n-1\n",
    "        sum += i\n",
    "    end\n",
    "    return sum\n",
    "end\n",
    "\n",
    "## second, we find a large enough number 'n' such that the number of combination exceeds 100\n",
    "num_flavor = 1\n",
    "while diff_comb(num_flavor) <= 100\n",
    "\n",
    "    num_flavor += 1\n",
    "\n",
    "end\n",
    "\n",
    "## finally, we compute the number of combination of two flavors given n\n",
    "function comb(n)\n",
    "    sum = 0\n",
    "    for i in 1:n\n",
    "        sum += i\n",
    "    end\n",
    "    return sum\n",
    "end\n",
    "print(comb(num_flavor))"
   ]
  },
  {
   "cell_type": "code",
   "execution_count": 170,
   "id": "d200d2c0",
   "metadata": {},
   "outputs": [
    {
     "name": "stdout",
     "output_type": "stream",
     "text": [
      "120"
     ]
    }
   ],
   "source": [
    "# Solution 2: with \"Combinatorics\" package\n",
    "using Combinatorics\n",
    "\n",
    "## gradually add the flavor until the number of combination of different colors exceeds 100\n",
    "flavor = []\n",
    "for i in 1:100\n",
    "\n",
    "    flavor_temp = flavor\n",
    "    next_flavor = i\n",
    "    append!(flavor_temp, next_flavor)\n",
    "    diff_num = length(collect(combinations(flavor_temp, 2)))\n",
    "    if diff_num >= 100  \n",
    "        break\n",
    "    else \n",
    "        flavor = flavor_temp\n",
    "    end\n",
    "\n",
    "end\n",
    "\n",
    "## the number of combination of flavors (allowed same flavor) with arithmetic series formula\n",
    "print(length(collect(combinations(flavor, 2))) + length(flavor))\n"
   ]
  },
  {
   "cell_type": "code",
   "execution_count": 165,
   "id": "ad793ddb",
   "metadata": {},
   "outputs": [
    {
     "name": "stdout",
     "output_type": "stream",
     "text": [
      "120.0\n"
     ]
    }
   ],
   "source": [
    "# Solution 3: with \"Roots\" package\n",
    "using Roots\n",
    "\n",
    "## define objective function: the number of combination of different colors exceeds 100\n",
    "f(x) = x*(x-1) / 2 - 100\n",
    "n = find_zero(f, (1, 100))\n",
    "n = ceil(n)\n",
    "\n",
    "## the number of combination of flavors (allowed same flavor) with arithmetic series formula\n",
    "num = n * (1+n) / 2\n",
    "println(num)\n"
   ]
  },
  {
   "cell_type": "markdown",
   "id": "1f809979",
   "metadata": {},
   "source": [
    "## (111學測數A選填13）有一款線上遊戲推出「十連抽」的抽卡機制，「十連抽」意思為系統自動做十次的抽卡 動作。若每次「十連抽」需用 1500 枚代幣，抽中金卡的機率在前九次皆為 2%，在第 十次為 10%。今某生有代幣 23000 枚，且不斷使用「十連抽」，抽到不能再抽為止。則某生抽到金卡張數的期望值為多少張？\n",
    "\n",
    "Hint: 幾個可以用、不一定全部用到的函數：`for` loop, `round()`, `trunc()`."
   ]
  },
  {
   "cell_type": "code",
   "execution_count": 153,
   "id": "e524c941",
   "metadata": {},
   "outputs": [
    {
     "name": "stdout",
     "output_type": "stream",
     "text": [
      "4.2\n"
     ]
    }
   ],
   "source": [
    "# setting\n",
    "money = 23000\n",
    "cost = 1500\n",
    "expval = 0\n",
    "\n",
    "# continue drawing\n",
    "while money >= cost\n",
    "\n",
    "    expval += 9 * 0.02 + 1 * 0.1\n",
    "    money -= cost\n",
    "\n",
    "end\n",
    "\n",
    "# the expected value\n",
    "println(round(expval; digits = 4, base = 10))"
   ]
  },
  {
   "cell_type": "markdown",
   "id": "c0b8b11f",
   "metadata": {},
   "source": [
    "## (111學測數B單選1) 試問有多少個整數 $x$ 滿足 $2|x| + x < 10$？\n",
    "\n",
    "Hint: 有很多方法，包括比較直覺的 `for` 或 `while` loops."
   ]
  },
  {
   "cell_type": "code",
   "execution_count": 74,
   "id": "72408fef",
   "metadata": {},
   "outputs": [
    {
     "name": "stdout",
     "output_type": "stream",
     "text": [
      "13"
     ]
    }
   ],
   "source": [
    "# use `cnt' as counter\n",
    "cnt = 0\n",
    "\n",
    "# with little calculation, -10 and 10 must beyond boundary. let's search between this interval\n",
    "for n in -10:10\n",
    "\n",
    "    if (2*abs(n) + n < 10)\n",
    "        cnt += 1\n",
    "    end\n",
    "\n",
    "end\n",
    "\n",
    "# reveal the counter\n",
    "print(cnt)"
   ]
  },
  {
   "cell_type": "markdown",
   "id": "0c31d3ed",
   "metadata": {},
   "source": [
    "## (111學測數B單選2) 某燈會布置變色閃燈，每次啟動後的閃燈顏色會依照以下的順序做週期性變換:藍-白- 紅-白-藍-白-紅-白-藍-白-紅-白...，每四次一循環，其中藍光每次持續 5 秒，白光每次持 續 2 秒，而紅光每次持續 6 秒。假設換燈號的時間極短可被忽略，試算出啟動後第 99 至 101 秒之間的燈號。"
   ]
  },
  {
   "cell_type": "code",
   "execution_count": 154,
   "id": "4f324ba3",
   "metadata": {},
   "outputs": [
    {
     "name": "stdout",
     "output_type": "stream",
     "text": [
      "The light color at 99-101 second is red\n"
     ]
    }
   ],
   "source": [
    "# setting, each element mean one second\n",
    "light = []\n",
    "blue = [\"blue\" \"blue\" \"blue\" \"blue\" \"blue\"]\n",
    "white = [\"white\" \"white\"]\n",
    "red = [\"red\" \"red\" \"red\" \"red\" \"red\" \"red\"]\n",
    "\n",
    "# each round of light takes 15 seconds, to know 99-101 we only need 7 rounds\n",
    "for i in 1:7\n",
    "\n",
    "    append!(light, blue)\n",
    "    append!(light, white)\n",
    "    append!(light, red)\n",
    "    append!(light, white)\n",
    "\n",
    "end\n",
    "\n",
    "# find the light at 99-101 second (also check if the light colors at each second are different)\n",
    "if light[99] == light[100]\n",
    "    println(\"The light color at 99-101 second is \", light[99])\n",
    "else\n",
    "    println(\"The light color at 99-100 second is \", light[99])\n",
    "    println(\"The light color at 100-101 second is \", light[100])\n",
    "end\n"
   ]
  },
  {
   "cell_type": "markdown",
   "id": "745b3253",
   "metadata": {},
   "source": [
    "## (111學測數B單選3) 有八棟大廈排成一列，由左至右分別編號 1, 2, 3, 4, 5, 6, 7, 8。今電信公司想選取其中三棟 大廈的屋頂分別設立一座電信基地台。若基地台不能設立於相鄰的兩棟大廈，以免訊號 互相干擾，試問在 3 號大廈不設立基地台的情況下，有多少種設立基地台的選取方法?\n",
    "\n",
    "Hint: 可以寫一個大的 `for` loop, 或用 Combinatorics 套件。"
   ]
  },
  {
   "cell_type": "code",
   "execution_count": 161,
   "id": "286189b1",
   "metadata": {},
   "outputs": [
    {
     "name": "stdout",
     "output_type": "stream",
     "text": [
      "13"
     ]
    }
   ],
   "source": [
    "# exhaustive search\n",
    "cnt = 0\n",
    "for i in 0:7\n",
    "    if i == 2  continue end  # buildign 3 is prohibited\n",
    "    for j in i+2:7\n",
    "        if j == 2  continue end  # buildign 3 is prohibited\n",
    "        for k in j+2:7\n",
    "            if k == 2  continue end  # buildign 3 is prohibited\n",
    "            cnt += 1\n",
    "        end\n",
    "    end\n",
    "end\n",
    "\n",
    "print(cnt)\n"
   ]
  },
  {
   "cell_type": "markdown",
   "id": "7b04a212",
   "metadata": {},
   "source": [
    "## (111學測數B選填17) 有三女三男共六位在校時和老師常有互動的同學，畢業後老師邀聚餐，餐後七人站 一橫排照相留念。已知同學中有一女一男兩位曾有過不愉快，照相時不想相鄰，而 老師站在正中間且三位男生不完全站在老師的同一側，則可能的排列方式共有多少種? \n",
    "\n",
    "Hint: `factorial()`"
   ]
  },
  {
   "cell_type": "code",
   "execution_count": 174,
   "id": "8c57a0e0",
   "metadata": {},
   "outputs": [
    {
     "name": "stdout",
     "output_type": "stream",
     "text": [
      "456\n"
     ]
    }
   ],
   "source": [
    "# list all condition we concern\n",
    "## condition A: all possible permutations (outcome space)\n",
    "A = factorial(6)\n",
    "\n",
    "## condition B: one boy and one girl are adjacent to each other\n",
    "B = 4 * factorial(2) * factorial(4)\n",
    "\n",
    "## condition C: all boys are on the same side (which is distinct from condition B)\n",
    "C = 2 * factorial(3) * factorial(3)\n",
    "\n",
    "## result: A - B - C\n",
    "println(A-B-C)"
   ]
  }
 ],
 "metadata": {
  "kernelspec": {
   "display_name": "Julia 1.10.1",
   "language": "julia",
   "name": "julia-1.10"
  },
  "language_info": {
   "file_extension": ".jl",
   "mimetype": "application/julia",
   "name": "julia",
   "version": "1.10.1"
  },
  "toc": {
   "base_numbering": 1,
   "nav_menu": {},
   "number_sections": true,
   "sideBar": true,
   "skip_h1_title": true,
   "title_cell": "Table of Contents",
   "title_sidebar": "Contents",
   "toc_cell": false,
   "toc_position": {
    "height": "calc(100% - 180px)",
    "left": "10px",
    "top": "150px",
    "width": "207.415px"
   },
   "toc_section_display": true,
   "toc_window_display": false
  }
 },
 "nbformat": 4,
 "nbformat_minor": 5
}
