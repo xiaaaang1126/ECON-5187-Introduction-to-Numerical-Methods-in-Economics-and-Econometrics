{
 "cells": [
  {
   "cell_type": "markdown",
   "id": "66794400",
   "metadata": {},
   "source": [
    "# Homework\n",
    "\n",
    "Consider the following function:\n",
    "\n",
    "\\begin{align}\n",
    " f(x) = \\log(x)\\times \\exp\\left[-\\frac{1}{2}\\left(\\frac{x-\\mu}{\\sigma}\\right)^2 \\right].\n",
    "\\end{align}\n",
    "\n",
    "Let's assume $\\mu=1.5$ and $\\sigma=2$. "
   ]
  },
  {
   "cell_type": "markdown",
   "id": "21e873fb",
   "metadata": {},
   "source": [
    "### Write a numerical finite differentiation program using the forward difference formula. \n",
    "#### Calculate the derivative of $f(x)$ at $x=1.2$ using various values of $h$, including Nash's formula. Which one is the best?\n",
    "\n",
    "### Write a numerical finite differentiation program using the central difference formula. \n",
    "#### Calculate the derivative of $f(x)$ at $x=1.2$ using various values of $h$, including Nash's formula. Which one is the best?"
   ]
  },
  {
   "cell_type": "markdown",
   "id": "3be638f0",
   "metadata": {},
   "source": [
    "---\n",
    "Given the function $f(x) = g(x) \\times h(x)$, where \n",
    "$$\n",
    "    g(x) = \\log(x),\\quad h(x) = \\exp\\left[-\\frac{1}{2}\\left(\\frac{x-\\mu}{\\sigma}\\right)^2\\right]\n",
    "$$\n",
    "\n",
    "we can take derivative and find $f'(x)$ as\n",
    "$$\n",
    "    \\frac{df(x)}{dx} = g'(x)h(x) + g(x)h'(x) = \\frac{h(x)}{x} + g(x)h(x)\\left(\\frac{\\mu-x}{\\sigma^2}\\right)\n",
    "$$"
   ]
  },
  {
   "cell_type": "code",
   "execution_count": 11,
   "id": "bad7b4e3",
   "metadata": {},
   "outputs": [
    {
     "name": "stdout",
     "output_type": "stream",
     "text": [
      "Forward Difference Results:\n",
      "h = 0.1, Actual Derivative = 0.8375320155347377, Approximate Derivative = 0.8077378356767273, Residual = 0.02979417985801036\n",
      "h = 0.01, Actual Derivative = 0.8375320155347377, Approximate Derivative = 0.8345025575188847, Residual = 0.0030294580158529705\n",
      "h = 0.001, Actual Derivative = 0.8375320155347377, Approximate Derivative = 0.8372285128508405, Residual = 0.00030350268389711665\n",
      "h = 0.0001, Actual Derivative = 0.8375320155347377, Approximate Derivative = 0.8375016596362528, Residual = 3.0355898484879518e-5\n",
      "h = 1.0e-5, Actual Derivative = 0.8375320155347377, Approximate Derivative = 0.8375289798911999, Residual = 3.0356435377631996e-6\n",
      "h = 1.0e-6, Actual Derivative = 0.8375320155347377, Approximate Derivative = 0.8375317118725079, Residual = 3.0366222980582336e-7\n",
      "h = 1.0e-7, Actual Derivative = 0.8375320155347377, Approximate Derivative = 0.8375319854314611, Residual = 3.0103276538184787e-8\n",
      "h = 1.7881393654661792e-8, Actual Derivative = 0.8375320155347377, Approximate Derivative = 0.8375320107051233, Residual = 4.82961437509033e-9\n",
      "\n",
      "Central Difference Results:\n",
      "h = 0.1, Actual Derivative = 0.8375320155347377, Approximate Derivative = 0.8376889492507497, Residual = 0.00015693371601199768\n",
      "h = 0.01, Actual Derivative = 0.8375320155347377, Approximate Derivative = 0.8375335813606916, Residual = 1.5658259538975372e-6\n",
      "h = 0.001, Actual Derivative = 0.8375320155347377, Approximate Derivative = 0.8375320311925782, Residual = 1.5657840579663684e-8\n",
      "h = 0.0001, Actual Derivative = 0.8375320155347377, Approximate Derivative = 0.8375320156933652, Residual = 1.5862755553541774e-10\n",
      "h = 1.0e-5, Actual Derivative = 0.8375320155347377, Approximate Derivative = 0.837532015543485, Residual = 8.747336188719146e-12\n",
      "h = 1.0e-6, Actual Derivative = 0.8375320155347377, Approximate Derivative = 0.837532015657283, Residual = 1.2254530723510015e-10\n",
      "h = 1.0e-7, Actual Derivative = 0.8375320155347377, Approximate Derivative = 0.8375320142972598, Residual = 1.2374778979307166e-9\n",
      "h = 1.7881393654661792e-8, Actual Derivative = 0.8375320155347377, Approximate Derivative = 0.837532015361736, Residual = 1.7300161303523964e-10\n"
     ]
    }
   ],
   "source": [
    "# parameter setting \n",
    "\n",
    "    ## define function f(x) with g(x) and h(x)\n",
    "    μ = 1.5\n",
    "    σ = 2.0\n",
    "    g(x) = log(x)\n",
    "    h(x) = exp(-0.5 * ((x-μ)/σ)^2)\n",
    "    f(x) = g(x) * h(x)\n",
    "\n",
    "    ## define f'(x)\n",
    "    f_plum(x) = h(x)/x + g(x)*h(x)*((μ-x)/σ^2)\n",
    "\n",
    "    ## define base point x0 = 1.2 and h values \n",
    "    x0 = 1.2\n",
    "    h_values = [0.1, 0.01, 0.001, 0.0001, 0.00001, 0.000001, 0.0000001]\n",
    "\n",
    "    ## according to Nash's formula, find the specific h\n",
    "    e_root = sqrt(eps(one(eltype(1.0))))\n",
    "    Nash_h = e_root * (x0 + e_root)\n",
    "    append!(h_values, Nash_h)\n",
    "\n",
    "# Forward Difference Formula\n",
    "\n",
    "    ## define forward difference\n",
    "    function forward_difference(f, x, h)\n",
    "        return (f(x + h) - f(x)) / h\n",
    "    end\n",
    "\n",
    "    ## approximate\n",
    "    println(\"Forward Difference Results:\")\n",
    "    for h in h_values\n",
    "        actual_derivative = f_plum(x0)\n",
    "        approx_derivative = forward_difference(f, x0, h)\n",
    "        println(\"h = $h, Actual Derivative = $actual_derivative, Approximate Derivative = $approx_derivative, Residual = \", abs(approx_derivative - actual_derivative))\n",
    "    end\n",
    "\n",
    "# Central Difference Formula\n",
    "\n",
    "    ## define central difference formula\n",
    "    function central_difference(f, x, h)\n",
    "        return (f(x + (h/2)) - f(x - (h/2))) / h\n",
    "    end\n",
    "\n",
    "    ## approximate\n",
    "    println(\"\\nCentral Difference Results:\")\n",
    "    for h in h_values\n",
    "        actual_derivative = f_plum(x0)\n",
    "        approx_derivative = central_difference(f, x0, h)\n",
    "        println(\"h = $h, Actual Derivative = $actual_derivative, Approximate Derivative = $approx_derivative, Residual = \", abs(approx_derivative - actual_derivative))\n",
    "    end "
   ]
  },
  {
   "cell_type": "markdown",
   "id": "56c3f48b",
   "metadata": {},
   "source": [
    "hence when applying forward difference, choosing $h$ according to Nash's formula is optimal; while in applying central difference, using $h = 10^{-5}$ gives a best approximation\n",
    "\n",
    "---"
   ]
  },
  {
   "cell_type": "markdown",
   "id": "36970d21",
   "metadata": {},
   "source": [
    "### Use Julia's package `FiniteDifferences` to compute the derivative of $f(x)$ at $x=1.2$. "
   ]
  },
  {
   "cell_type": "markdown",
   "id": "0784b779",
   "metadata": {},
   "source": [
    "---"
   ]
  },
  {
   "cell_type": "code",
   "execution_count": 19,
   "id": "f7f1e481",
   "metadata": {},
   "outputs": [
    {
     "name": "stdout",
     "output_type": "stream",
     "text": [
      "fd_derivative = 0.8375320155346879\n",
      "fd_derivative - f_plum(x0) = -4.973799150320701e-14\n"
     ]
    },
    {
     "data": {
      "text/plain": [
       "-4.973799150320701e-14"
      ]
     },
     "metadata": {},
     "output_type": "display_data"
    }
   ],
   "source": [
    "using FiniteDifferences\n",
    "\n",
    "# Calculate the derivative using 'FiniteDifferences'\n",
    "fd_derivative = central_fdm(5, 1)(f, x0)\n",
    "@show fd_derivative\n",
    "\n",
    "# compute the difference between approximated f(x) with package and actual slope\n",
    "@show fd_derivative - f_plum(x0)"
   ]
  },
  {
   "cell_type": "markdown",
   "id": "5a37a578",
   "metadata": {},
   "source": [
    "---"
   ]
  }
 ],
 "metadata": {
  "@webio": {
   "lastCommId": null,
   "lastKernelId": null
  },
  "kernelspec": {
   "display_name": "Julia 1.10.1",
   "language": "julia",
   "name": "julia-1.10"
  },
  "language_info": {
   "file_extension": ".jl",
   "mimetype": "application/julia",
   "name": "julia",
   "version": "1.10.1"
  },
  "toc": {
   "base_numbering": 1,
   "nav_menu": {},
   "number_sections": true,
   "sideBar": true,
   "skip_h1_title": false,
   "title_cell": "Table of Contents",
   "title_sidebar": "Contents",
   "toc_cell": false,
   "toc_position": {},
   "toc_section_display": true,
   "toc_window_display": false
  }
 },
 "nbformat": 4,
 "nbformat_minor": 5
}
