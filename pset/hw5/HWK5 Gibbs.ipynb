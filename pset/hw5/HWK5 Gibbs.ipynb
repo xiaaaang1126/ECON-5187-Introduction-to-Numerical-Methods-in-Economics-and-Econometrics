{
 "cells": [
  {
   "cell_type": "markdown",
   "id": "1d974d76",
   "metadata": {},
   "source": [
    "# Homework 3"
   ]
  },
  {
   "cell_type": "markdown",
   "id": "e4c0d8c0",
   "metadata": {},
   "source": [
    "## Consider the bivariate normal distribution we introduced in the class. Let's make the assumptions that  $\\mu_x = 0$, $\\mu_y = \\mu_y$, $\\sigma_x = \\sigma_x$, $\\sigma_y = 1$, and $\\rho=\\rho$.\n",
    "\n",
    "### Write down the conditional distributions of X and Y. Note that both of them would be normal distributions. (See Section 1.4.3 and 1.4.3.1 of the lecture note.)"
   ]
  },
  {
   "cell_type": "markdown",
   "id": "9c1f2359",
   "metadata": {},
   "source": [
    "### Write a Julia function of Gibbs sampler that allows users to choose: the number of sampling points $N$, the values of $\\mu_y$, $\\sigma_x$, $\\rho$, and initial values of $(x_0, y_0)$, and the number of burn-in points. You should follow the steps in Section 1.3 of the lecture note to draw $(x_n, y_n), n=1,\\ldots,N$.\n"
   ]
  },
  {
   "cell_type": "markdown",
   "id": "42b36a91",
   "metadata": {},
   "source": [
    "### Draw a graph  similar to the one we showed in the class. Remember to add sliders for both $N$ and $\\rho$."
   ]
  }
 ],
 "metadata": {
  "kernelspec": {
   "display_name": "Julia 1.10.0",
   "language": "julia",
   "name": "julia-1.10"
  },
  "language_info": {
   "file_extension": ".jl",
   "mimetype": "application/julia",
   "name": "julia",
   "version": "1.10.0"
  },
  "toc": {
   "base_numbering": 1,
   "nav_menu": {},
   "number_sections": true,
   "sideBar": true,
   "skip_h1_title": true,
   "title_cell": "Table of Contents",
   "title_sidebar": "Contents",
   "toc_cell": false,
   "toc_position": {},
   "toc_section_display": true,
   "toc_window_display": false
  }
 },
 "nbformat": 4,
 "nbformat_minor": 5
}
