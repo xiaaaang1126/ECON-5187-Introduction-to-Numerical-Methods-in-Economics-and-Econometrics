{
 "cells": [
  {
   "cell_type": "markdown",
   "id": "d68849a7",
   "metadata": {},
   "source": [
    "# Homework\n",
    "\n",
    "This homework asks you to compute a function's derivatives using symbolic and automatic differentiation methods. Our objective function is the follows.\n",
    "\n",
    "\\begin{align}\n",
    " f(x) = \\ln(x)\\times \\exp\\left[-\\frac{1}{2}\\left(\\frac{x-\\mu}{\\sigma}\\right)^2 \\right],\n",
    "\\end{align}\n",
    "where $\\ln(x)$ is the natural logarithm of $x$. (Note: In the majority of programming languages including Julia, the natural logarithm of $x$ is denoted as `log(x)`. If you wish to specify the logarithm of base 10, you use `log10(x)`.)\n",
    "\n",
    "Let's assume $\\mu=1.5$ and $\\sigma=2$. \n",
    "\n"
   ]
  },
  {
   "cell_type": "markdown",
   "id": "f3e109f3",
   "metadata": {},
   "source": [
    "---\n",
    "## Automatic Differentiations"
   ]
  },
  {
   "cell_type": "markdown",
   "id": "42778d4a",
   "metadata": {},
   "source": [
    "### Use the Taylor expansion to derive the result of logarithms on dual numbers."
   ]
  },
  {
   "cell_type": "markdown",
   "id": "7875f98c",
   "metadata": {},
   "source": [
    "Let $f(x) = \\log(x)$ and so $f'(x) = \\frac 1x$. For a dual number, it means $f(a+b\\epsilon) = \\log ({a+b\\epsilon})$. Applying the Taylor expansion, we have\n",
    "\n",
    "\\begin{align}\n",
    " f(a +b\\epsilon) & = f(a) + f'(a)b\\epsilon = \\log a + \\frac 1a b\\epsilon; \\\\\n",
    "\\Longrightarrow \\quad \\log ({a+b\\epsilon}) & = \\log a + \\frac 1a b\\epsilon.\n",
    "\\end{align}\n",
    "\n",
    "---"
   ]
  },
  {
   "cell_type": "markdown",
   "id": "0983ceaa",
   "metadata": {},
   "source": [
    "### Add methods of the division (\"/\") and logarithm (\"log()\") for dual numbers in Julia."
   ]
  },
  {
   "cell_type": "markdown",
   "id": "222a8571",
   "metadata": {},
   "source": [
    "We first define the *DualNumber* according to lecture notes"
   ]
  },
  {
   "cell_type": "code",
   "execution_count": 17,
   "id": "ed9c8304",
   "metadata": {},
   "outputs": [
    {
     "data": {
      "text/plain": [
       "exp (generic function with 17 methods)"
      ]
     },
     "metadata": {},
     "output_type": "display_data"
    }
   ],
   "source": [
    "import Base: +, *, -, ^, exp, log\n",
    "\n",
    "struct DualNumber{T1, T2} <: Real   \n",
    "    re::T1                # differnt types so (Float64, Int64), etc., is possible\n",
    "    du::T2\n",
    "end\n",
    "\n",
    "+(x::DualNumber, y::DualNumber) = DualNumber(x.re + y.re, x.du + y.du)  # dual addition\n",
    "+(x::DualNumber, a::Number) = DualNumber(x.re + a, x.du)  \n",
    "+(a::Number, x::DualNumber) = DualNumber(x.re + a, x.du) \n",
    "\n",
    "-(x::DualNumber, y::DualNumber) = DualNumber(x.re - y.re, x.du - y.du)  # dual subtraction\n",
    "-(x::DualNumber, a::Number) = DualNumber(x.re - a, x.du)  \n",
    "-(a::Number, x::DualNumber) = DualNumber(a - x.re , -x.du)  \n",
    "\n",
    "*(x::DualNumber, y::DualNumber) = DualNumber(x.re*y.re, x.re*y.du + y.re*x.du)\n",
    "*(x::DualNumber, a::Number) = DualNumber(a*x.re, a*x.du)\n",
    "*(a::Number, x::DualNumber) = DualNumber(a*x.re, a*x.du)\n",
    "\n",
    "function exp(x::DualNumber)\n",
    "    exp_re = exp(x.re)\n",
    "    return DualNumber(exp_re, x.du * exp_re)\n",
    "end\n",
    "\n",
    "# Where is the division rule? Your turn!"
   ]
  },
  {
   "cell_type": "markdown",
   "id": "99b73585",
   "metadata": {},
   "source": [
    "next, we define the division operator and logarithm"
   ]
  },
  {
   "cell_type": "code",
   "execution_count": 16,
   "id": "001d4c26",
   "metadata": {},
   "outputs": [
    {
     "data": {
      "text/plain": [
       "log (generic function with 30 methods)"
      ]
     },
     "metadata": {},
     "output_type": "display_data"
    }
   ],
   "source": [
    "import Base: log, /\n",
    "\n",
    "\n",
    "# define division operator\n",
    "/(x::DualNumber, y::DualNumber) = DualNumber(x.re / y.re, (x.du * y.re - x.re * y.du) / (y.re^2))\n",
    "/(x::DualNumber, a::Number) = DualNumber(x.re / a, x.du / a)\n",
    "/(a::Number, x::DualNumber) = DualNumber(a / x.re, -a * x.du / (x.re^2))\n",
    "\n",
    "# define logarithm\n",
    "function log(x::DualNumber)\n",
    "    if x.re <= 0\n",
    "        throw(DomainError(x, \"Logarithm undefined for non-positive reals as real part.\"))\n",
    "    end\n",
    "    return DualNumber(log(x.re), x.du / x.re)\n",
    "end"
   ]
  },
  {
   "cell_type": "markdown",
   "id": "79f52a34",
   "metadata": {},
   "source": [
    "---"
   ]
  },
  {
   "cell_type": "markdown",
   "id": "acf0a477",
   "metadata": {},
   "source": [
    "### Use the dual numbers you've defined to compute the derivative of $f(x)$ at $x=1.2$."
   ]
  },
  {
   "cell_type": "code",
   "execution_count": 21,
   "id": "56a3b13c",
   "metadata": {},
   "outputs": [
    {
     "name": "stdout",
     "output_type": "stream",
     "text": [
      "The value of f(x) at x = 1.2 is 0.1802819336716901\n",
      "The derivative of f(x) at x = 1.2 is 0.8375320155347377\n"
     ]
    }
   ],
   "source": [
    "using Base: exp, log\n",
    "\n",
    "# parameter setting\n",
    "μ = 1.5\n",
    "σ = 2.0\n",
    "x0 = DualNumber(1.2, 1)  # x0 = 1.2 + ε, where ε is the infinitesimal part\n",
    "\n",
    "# compute f(x0)\n",
    "f_x0 = log(x0) * exp(-0.5 * ((x0 - μ) / σ)^2) \n",
    "\n",
    "# the real part is the function value at x0, while the dual part is the derivative value at x0\n",
    "println(\"The value of f(x) at x = 1.2 is $(f_x0.re)\")\n",
    "println(\"The derivative of f(x) at x = 1.2 is $(f_x0.du)\")"
   ]
  },
  {
   "cell_type": "markdown",
   "id": "27a8378c",
   "metadata": {},
   "source": [
    "---"
   ]
  },
  {
   "cell_type": "markdown",
   "id": "d114cb36",
   "metadata": {},
   "source": [
    "### Use Julia's package `ForwardDiff`, which implements the forward-mode auto differentiation, to compute the derivative of $f(x)$ at $x=1.2$."
   ]
  },
  {
   "cell_type": "code",
   "execution_count": 28,
   "id": "977d1771",
   "metadata": {},
   "outputs": [
    {
     "name": "stdout",
     "output_type": "stream",
     "text": [
      "The derivative of f(x) at x = 1.2 is 0.8375320155347377\n"
     ]
    }
   ],
   "source": [
    "using ForwardDiff\n",
    "\n",
    "# define function f(x) as fun(x)\n",
    "function fun(x)\n",
    "    μ = 1.5\n",
    "    σ = 2.0\n",
    "    return log(x) * exp(-0.5 * ((x - μ) / σ)^2)\n",
    "end\n",
    "\n",
    "# compute derivative at x0 = 1.2\n",
    "x0 = 1.2\n",
    "dfun = ForwardDiff.derivative(fun, x0)\n",
    "\n",
    "println(\"The derivative of f(x) at x = 1.2 is $dfun\")\n"
   ]
  },
  {
   "cell_type": "markdown",
   "id": "f6a24495",
   "metadata": {},
   "source": [
    "---"
   ]
  },
  {
   "cell_type": "markdown",
   "id": "56924711",
   "metadata": {},
   "source": [
    "## Symbolic Differentiation\n",
    "\n",
    "### Use Julia's package `SymPy` to compute the analytic derivative of $f(x)$ and evaluate the result at $x=1.2$.\n",
    "- Hint: You may need to use `diff` and `subs` functions in the package.\n",
    "- Remark: I intended to use `Symbolics` but find it less straightforward. You might give it a try."
   ]
  },
  {
   "cell_type": "code",
   "execution_count": 31,
   "id": "61875106",
   "metadata": {},
   "outputs": [
    {
     "name": "stdout",
     "output_type": "stream",
     "text": [
      "df = -0.5*(2*x - 2*μ)*exp(-0.5*(x - μ)^2/σ^2)*log(x)/σ^2 + exp(-0.5*(x - μ)^2/σ^2)/x\n",
      "df.subs(Dict(x => 1.2, μ => 1.5, σ => 2)) = 0.837532015534738\n"
     ]
    },
    {
     "data": {
      "text/latex": [
       "$0.837532015534738$"
      ],
      "text/plain": [
       "0.837532015534738"
      ]
     },
     "metadata": {},
     "output_type": "display_data"
    }
   ],
   "source": [
    "using SymPy\n",
    "\n",
    "# define symbols and function f(x)\n",
    "x, μ, σ = symbols(\"x μ σ\")\n",
    "f = log(x) * exp(-1/2 * ((x - μ)/σ)^2)\n",
    "\n",
    "# derivative for f(x)\n",
    "df = diff(f, x)\n",
    "\n",
    "# show the form of f(x) and derivative of f(x)\n",
    "@show df\n",
    "@show df.subs(Dict(x => 1.2, μ => 1.5, σ => 2))\n"
   ]
  },
  {
   "cell_type": "markdown",
   "id": "04186cc1",
   "metadata": {},
   "source": [
    "---"
   ]
  }
 ],
 "metadata": {
  "@webio": {
   "lastCommId": null,
   "lastKernelId": null
  },
  "kernelspec": {
   "display_name": "Julia 1.10.1",
   "language": "julia",
   "name": "julia-1.10"
  },
  "language_info": {
   "file_extension": ".jl",
   "mimetype": "application/julia",
   "name": "julia",
   "version": "1.10.1"
  },
  "toc": {
   "base_numbering": 1,
   "nav_menu": {},
   "number_sections": true,
   "sideBar": true,
   "skip_h1_title": false,
   "title_cell": "Table of Contents",
   "title_sidebar": "Contents",
   "toc_cell": false,
   "toc_position": {},
   "toc_section_display": true,
   "toc_window_display": false
  }
 },
 "nbformat": 4,
 "nbformat_minor": 5
}
