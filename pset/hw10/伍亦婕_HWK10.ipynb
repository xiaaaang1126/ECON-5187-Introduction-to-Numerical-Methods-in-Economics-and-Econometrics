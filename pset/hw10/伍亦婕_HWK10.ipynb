{
 "cells": [
  {
   "cell_type": "markdown",
   "id": "d68849a7",
   "metadata": {},
   "source": [
    "# Homework\n",
    "\n",
    "This homework asks you to compute a function's derivatives using symbolic and automatic differentiation methods. Our objective function is the follows.\n",
    "\n",
    "\\begin{align}\n",
    " f(x) = \\log(x)\\times \\exp\\left[-\\frac{1}{2}\\left(\\frac{x-\\mu}{\\sigma}\\right)^2 \\right].\n",
    "\\end{align}\n",
    "\n",
    "Let's assume $\\mu=1.5$ and $\\sigma=2$. \n",
    "\n"
   ]
  },
  {
   "cell_type": "markdown",
   "id": "f3e109f3",
   "metadata": {},
   "source": [
    "## Automatic Differentiations"
   ]
  },
  {
   "cell_type": "markdown",
   "id": "42778d4a",
   "metadata": {},
   "source": [
    "### Use the Taylor expansion to derive the result of logarithms on dual numbers."
   ]
  },
  {
   "cell_type": "markdown",
   "id": "54b95249",
   "metadata": {},
   "source": [
    "Let $f(x) = \\log(x)$ and so $f'(x) = \\frac 1x$. For a dual number, it means $f(a+b\\epsilon) = \\log ({a+b\\epsilon})$. Applying the Taylor expansion, we have\n",
    "\n",
    "\\begin{align}\n",
    " f(a +b\\epsilon) & = f(a) + f'(a)b\\epsilon = \\log a + \\frac 1a b\\epsilon; \\\\\n",
    "\\Longrightarrow \\quad \\log ({a+b\\epsilon}) & = \\log a + \\frac 1a b\\epsilon.\n",
    "\\end{align}"
   ]
  },
  {
   "cell_type": "markdown",
   "id": "0983ceaa",
   "metadata": {},
   "source": [
    "### Add methods of the division (\"/\") and logarithm (\"log()\") for dual numbers in Julia."
   ]
  },
  {
   "cell_type": "code",
   "execution_count": 19,
   "id": "ea174f5c",
   "metadata": {},
   "outputs": [],
   "source": [
    "struct DualNumber{T1, T2} <: Real   \n",
    "    re::T1                # differnt types so (Float64, Int64), etc., is possible\n",
    "    du::T2\n",
    "end\n",
    "\n",
    "+(x::DualNumber, y::DualNumber) = DualNumber(x.re + y.re, x.du + y.du)  # dual addition\n",
    "+(x::DualNumber, a::Number) = DualNumber(x.re + a, x.du)  \n",
    "+(a::Number, x::DualNumber) = DualNumber(x.re + a, x.du) \n",
    "\n",
    "-(x::DualNumber, y::DualNumber) = DualNumber(x.re - y.re, x.du - y.du)  # dual subtraction\n",
    "-(x::DualNumber, a::Number) = DualNumber(x.re - a, x.du)  \n",
    "-(a::Number, x::DualNumber) = DualNumber(a - x.re , -x.du)  \n",
    "\n",
    "*(x::DualNumber, y::DualNumber) = DualNumber(x.re*y.re, x.re*y.du + y.re*x.du)\n",
    "*(x::DualNumber, a::Number) = DualNumber(a*x.re, a*x.du)\n",
    "*(a::Number, x::DualNumber) = DualNumber(a*x.re, a*x.du)\n",
    "\n",
    "^(x::DualNumber, n::Union{Float64, Int64}) = DualNumber(x.re^n, n*x.re^(n-1)*x.du)  # cannot use n<:Real, since n is variable\n",
    "\n",
    "\n",
    "# division operator definition\n",
    "Base.:(/)(x::DualNumber, y::DualNumber) = DualNumber(x.re/y.re, (x.du*y.re - x.re*y.du)/y.re^2)\n",
    "Base.:(/)(x::DualNumber, a::Number) = DualNumber(x.re/a, x.du/a)\n",
    "Base.:(/)(a::Number, x::DualNumber) = DualNumber(a/x.re, -a*x.du/x.re^2)\n",
    "\n",
    "# logaraithm definition\n",
    "Base.log(x::DualNumber) = DualNumber(log(x.re), x.du / x.re)\n"
   ]
  },
  {
   "cell_type": "markdown",
   "id": "acf0a477",
   "metadata": {},
   "source": [
    "### Use the dual numbers you've defined to compute the derivative of $f(x)$ at $x=1.2$."
   ]
  },
  {
   "cell_type": "code",
   "execution_count": null,
   "id": "44d6a61e",
   "metadata": {},
   "outputs": [],
   "source": [
    "# Assuming μ and σ are known constants\n",
    "μ = DualNumber(1.5, 0)\n",
    "σ = DualNumber(2.0, 0)\n",
    "\n",
    "# Define the function f using dual numbers\n",
    "function f(x::DualNumber)\n",
    "    return log(x) * exp(-0.5 * ((x - μ) / σ)^2)\n",
    "end\n",
    "\n",
    "# Compute the derivative at x=1.2 using dual numbers\n",
    "x_dual = DualNumber(1.2, 1)\n",
    "derivative_f = f(x_dual).du\n",
    "#println(\"The derivative of f at x=1.2 using dual numbers is: $derivative_f\")\n"
   ]
  },
  {
   "cell_type": "code",
   "execution_count": 20,
   "metadata": {},
   "outputs": [
    {
     "ename": "MethodError",
     "evalue": "MethodError: no method matching log(::Float64)\nYou may have intended to import Base.log\n\nClosest candidates are:\n  log(!Matched::DualNumber)\n   @ Main ~/Library/CloudStorage/GoogleDrive-yijiewuback@gmail.com/我的雲端硬碟/研一下資料/經濟計量數值方法導論/week10_hw/HWK10 AutoDiff.ipynb:27\n",
     "output_type": "error",
     "traceback": [
      "MethodError: no method matching log(::Float64)\n",
      "You may have intended to import Base.log\n",
      "\n",
      "Closest candidates are:\n",
      "  log(!Matched::DualNumber)\n",
      "   @ Main ~/Library/CloudStorage/GoogleDrive-yijiewuback@gmail.com/我的雲端硬碟/研一下資料/經濟計量數值方法導論/week10_hw/HWK10 AutoDiff.ipynb:27\n",
      "\n",
      "\n",
      "Stacktrace:\n",
      " [1] log(x::DualNumber{Float64, Int64})\n",
      "   @ Main ~/Library/CloudStorage/GoogleDrive-yijiewuback@gmail.com/我的雲端硬碟/研一下資料/經濟計量數值方法導論/week10_hw/HWK10 AutoDiff.ipynb:27\n",
      " [2] f(x::DualNumber{Float64, Int64})\n",
      "   @ Main ~/Library/CloudStorage/GoogleDrive-yijiewuback@gmail.com/我的雲端硬碟/研一下資料/經濟計量數值方法導論/week10_hw/HWK10 AutoDiff.ipynb:4\n",
      " [3] top-level scope\n",
      "   @ ~/Library/CloudStorage/GoogleDrive-yijiewuback@gmail.com/我的雲端硬碟/研一下資料/經濟計量數值方法導論/week10_hw/HWK10 AutoDiff.ipynb:8"
     ]
    }
   ],
   "source": [
    "\n",
    "# Define the function f using dual numbers\n",
    "function f(x::DualNumber)\n",
    "    return log(x)\n",
    "end\n",
    "# Compute the derivative at x=1.2 using dual numbers\n",
    "x_dual = DualNumber(1.2, 1)\n",
    "derivative_f = f(x_dual)\n",
    "#println(\"The derivative of f at x=1.2 using dual numbers is: $derivative_f\")\n"
   ]
  },
  {
   "cell_type": "markdown",
   "id": "d114cb36",
   "metadata": {},
   "source": [
    "### Use Julia's package `ForwardDiff`, which implements the forward-mode auto differentiation, to compute the derivative of $f(x)$ at $x=1.2$."
   ]
  },
  {
   "cell_type": "markdown",
   "id": "56924711",
   "metadata": {},
   "source": [
    "## Symbolic Differentiation\n",
    "\n",
    "### Use Julia's package `SymPy` to compute the analytic derivative of $f(x)$ and evaluate the result at $x=1.2$.\n",
    "- Hint: You may need to use `diff` and `subs` functions in the package.\n",
    "- Remark: I intended to use `Symbolics` but find it less straightforward. You might give it a try."
   ]
  }
 ],
 "metadata": {
  "@webio": {
   "lastCommId": null,
   "lastKernelId": null
  },
  "kernelspec": {
   "display_name": "Julia 1.10.1",
   "language": "julia",
   "name": "julia-1.10"
  },
  "language_info": {
   "file_extension": ".jl",
   "mimetype": "application/julia",
   "name": "julia",
   "version": "1.10.1"
  },
  "toc": {
   "base_numbering": 1,
   "nav_menu": {},
   "number_sections": true,
   "sideBar": true,
   "skip_h1_title": false,
   "title_cell": "Table of Contents",
   "title_sidebar": "Contents",
   "toc_cell": false,
   "toc_position": {},
   "toc_section_display": true,
   "toc_window_display": false
  }
 },
 "nbformat": 4,
 "nbformat_minor": 5
}
