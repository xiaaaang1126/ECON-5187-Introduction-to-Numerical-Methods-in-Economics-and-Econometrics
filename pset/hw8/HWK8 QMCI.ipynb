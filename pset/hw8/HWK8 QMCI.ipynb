{
 "cells": [
  {
   "cell_type": "markdown",
   "id": "d68849a7",
   "metadata": {},
   "source": [
    "# Homework: Integration using Three Methods\n",
    "\n",
    "[//]: # \"未來：對一個 multi dimensional integration, 用 Gaussian quadrature 來做，然後與 QMC 比較。\"\n",
    "\n"
   ]
  },
  {
   "cell_type": "markdown",
   "id": "25c109a0",
   "metadata": {},
   "source": [
    "##  Let's redo the integration problem using QMC:\n",
    "\n",
    "  \\begin{aligned}\n",
    "   I = \\int_{-\\infty}^\\infty \\exp\\left(-\\frac{1}{3}x^2\\right)\\sqrt{1+x^2} dx.\n",
    "  \\end{aligned}\n",
    "  \n",
    "  - Use quasi Monte Carlo method to compute the following integration.\n",
    "  - transform the infinite domain to $[0,1]$; mind the Jacobian;\n",
    "  - draw Halton sequence from $[0,1]$;\n",
    "  - compute the integration with a given $n$.\n",
    "- Inspect the convergence path by computing $I$ using different values $n$, and draw a graph with $n$ and $I$ on the horizontal and vertical axes, respectively."
   ]
  },
  {
   "cell_type": "markdown",
   "id": "e5406fdc",
   "metadata": {},
   "source": [
    "## \n",
    "Consider the following integration problem:\n",
    "\\begin{align}\n",
    "  I = \\int_a^1 c\\cdot x^{-k-1}(1-x)^{k+1}dx.\n",
    "\\end{align}\n",
    "Assume $a = 10^{-5}$, $c=10^{-9}$, and $k=2$."
   ]
  },
  {
   "cell_type": "markdown",
   "id": "56924711",
   "metadata": {},
   "source": [
    "### Plot (multiple) graphs of the integrand to have a basic understanding of the problem. As you can see from the equation, the integrand may be tricky when $x$ approaches 0 and when $x$ approaches 1. Therefore, plot the graphs that highlight the integrand's shape near x=0 and x=1."
   ]
  },
  {
   "cell_type": "markdown",
   "id": "d57030c5",
   "metadata": {},
   "source": [
    "### Use the Gauss-Legendre rule to compute the integral. How many nodes are required to have a stable solution (say, five digits after the decimal point are unchanged) ? \n",
    "- Hint: A lot of nodes."
   ]
  },
  {
   "cell_type": "markdown",
   "id": "6a798161",
   "metadata": {},
   "source": [
    "### Use both of the Monte Carlo method (with pseudo random numbers) and Quasi-Monte Carlo method (with the Halton sequence) to compute the integral. How long does the sequences need to be in order to have a stable solution (2 digits after the decimal point)? Which method, MC or QMC, uses smaller values of $n$?\n",
    "- Hint: A very long sequence.\n",
    "- Hint: The following generates a Halton sequence of length 100 with the base number=2: `using HaltonSequences;` `lds=Halton(2,100)`."
   ]
  },
  {
   "cell_type": "markdown",
   "id": "bbcb2640",
   "metadata": {},
   "source": [
    "### Julia provides a package `QuadGK.jl` which has a function `quadgk()` that uses *adaptive quadratures* to do one-dimensional numerical integration. Use `using Pkg; Pkg.add(\"QuadGK.jl\")` to install it, and `using QuadGK` to call it.\n",
    "- Please read Section 1.3 on `Lec4 Numerical Integration - class.ipynb` to understand what is adaptive quadratures.\n",
    "- Use `quadgk()` function to compute the integration."
   ]
  },
  {
   "cell_type": "markdown",
   "id": "18381263",
   "metadata": {},
   "source": [
    "### You tried several methods to calculate the integration: The Gauss-Legendre method, the quasi-Monte Carlo method using the Halton sequence, the Monte Carlo method using random draws, and the adaptive quadrature method. How would you rank the methods from the most efficient (in terms of using a smaller number of draws/points, which usually translates to shorter run time) to the least efficient? Please explain the possible reasons behind the most and the least efficient methods."
   ]
  }
 ],
 "metadata": {
  "@webio": {
   "lastCommId": "9396843a-85f8-4f9d-88ab-dd9e8c8a0465",
   "lastKernelId": "ffcf3550-c970-4108-bf69-24d427fe6860"
  },
  "kernelspec": {
   "display_name": "Julia 1.10.0",
   "language": "julia",
   "name": "julia-1.10"
  },
  "language_info": {
   "file_extension": ".jl",
   "mimetype": "application/julia",
   "name": "julia",
   "version": "1.8.3"
  },
  "toc": {
   "base_numbering": 1,
   "nav_menu": {},
   "number_sections": true,
   "sideBar": true,
   "skip_h1_title": false,
   "title_cell": "Table of Contents",
   "title_sidebar": "Contents",
   "toc_cell": false,
   "toc_position": {},
   "toc_section_display": true,
   "toc_window_display": false
  }
 },
 "nbformat": 4,
 "nbformat_minor": 5
}
